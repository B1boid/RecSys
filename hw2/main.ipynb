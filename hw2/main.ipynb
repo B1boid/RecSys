{
 "cells": [
  {
   "cell_type": "code",
   "execution_count": 1,
   "metadata": {
    "collapsed": true
   },
   "outputs": [],
   "source": [
    "import pandas as pd\n",
    "import numpy as np\n",
    "import xgboost as xg\n",
    "from sklearn.metrics import accuracy_score, roc_auc_score\n",
    "from sklearn.model_selection import train_test_split\n",
    "from catboost import CatBoostClassifier, CatBoostRegressor, cv, Pool"
   ]
  },
  {
   "cell_type": "code",
   "execution_count": 2,
   "outputs": [
    {
     "data": {
      "text/plain": "                                                 msno  \\\n0        FGtllVqz18RPiwJj/edr2gV78zirAiY/9SmYvia+kCg=   \n1        Xumu+NIjS6QYVxDS4/t3SawvJ7viT9hPKXmf0RtLNx8=   \n2        Xumu+NIjS6QYVxDS4/t3SawvJ7viT9hPKXmf0RtLNx8=   \n3        Xumu+NIjS6QYVxDS4/t3SawvJ7viT9hPKXmf0RtLNx8=   \n4        FGtllVqz18RPiwJj/edr2gV78zirAiY/9SmYvia+kCg=   \n...                                               ...   \n7377413  6xdFzPlrasIDD95mQWXVC3Bg4ptnGYtBl4ztVEZMddU=   \n7377414  ZxbVmt3Kh/XOH+h58c2Kdj6SjFZk+wnUO006IgWzMQE=   \n7377415  ZxbVmt3Kh/XOH+h58c2Kdj6SjFZk+wnUO006IgWzMQE=   \n7377416  0aH4Hd3ziPSRHClRX8rkeOEaAG5EPPkW1mKGCdXEok0=   \n7377417  0aH4Hd3ziPSRHClRX8rkeOEaAG5EPPkW1mKGCdXEok0=   \n\n                                              song_id source_system_tab  \\\n0        BBzumQNXUHKdEBOB7mAJuzok+IJA1c2Ryg/yzTF6tik=           explore   \n1        bhp/MpSNoqoxOIB+/l8WPqu6jldth4DIpCm3ayXnJqM=        my library   \n2        JNWfrrC7zNN7BdMpsISKa4Mw+xVJYNnxXh3/Epw7QgY=        my library   \n3        2A87tzfnJTSWqD7gIZHisolhe4DMdzkbd6LzO1KHjNs=        my library   \n4        3qm6XTZ6MOCU11x8FIVbAGH5l5uMkT3/ZalWG1oo2Gc=           explore   \n...                                               ...               ...   \n7377413  VJTxizih/o28kXCbtPbIyWXScoXGvxyYtl6R+0YB5JM=        my library   \n7377414  z1mqaU9YOX7T/PFDvUoWozdFq7rC3KwaQP7nFVprjMI=            search   \n7377415  750RprmFfLV0bymtDH88g24pLZGVi5VpBAI300P6UOA=            search   \n7377416  G8wgqObgeAMER/rVCIlgcNeQ8mm0CzF/GsxiMK8TTnA=          discover   \n7377417  Ju0VGkjWeBUZCd7r5Az2hUImhMoWxWLUicOedsmvG0g=          discover   \n\n          source_screen_name      source_type  target  \n0                    Explore  online-playlist       1  \n1        Local playlist more   local-playlist       1  \n2        Local playlist more   local-playlist       1  \n3        Local playlist more   local-playlist       1  \n4                    Explore  online-playlist       1  \n...                      ...              ...     ...  \n7377413  Local playlist more   local-playlist       1  \n7377414               Search             song       0  \n7377415               Search             song       1  \n7377416       Discover Genre  online-playlist       1  \n7377417       Discover Genre  online-playlist       1  \n\n[7377418 rows x 6 columns]",
      "text/html": "<div>\n<style scoped>\n    .dataframe tbody tr th:only-of-type {\n        vertical-align: middle;\n    }\n\n    .dataframe tbody tr th {\n        vertical-align: top;\n    }\n\n    .dataframe thead th {\n        text-align: right;\n    }\n</style>\n<table border=\"1\" class=\"dataframe\">\n  <thead>\n    <tr style=\"text-align: right;\">\n      <th></th>\n      <th>msno</th>\n      <th>song_id</th>\n      <th>source_system_tab</th>\n      <th>source_screen_name</th>\n      <th>source_type</th>\n      <th>target</th>\n    </tr>\n  </thead>\n  <tbody>\n    <tr>\n      <th>0</th>\n      <td>FGtllVqz18RPiwJj/edr2gV78zirAiY/9SmYvia+kCg=</td>\n      <td>BBzumQNXUHKdEBOB7mAJuzok+IJA1c2Ryg/yzTF6tik=</td>\n      <td>explore</td>\n      <td>Explore</td>\n      <td>online-playlist</td>\n      <td>1</td>\n    </tr>\n    <tr>\n      <th>1</th>\n      <td>Xumu+NIjS6QYVxDS4/t3SawvJ7viT9hPKXmf0RtLNx8=</td>\n      <td>bhp/MpSNoqoxOIB+/l8WPqu6jldth4DIpCm3ayXnJqM=</td>\n      <td>my library</td>\n      <td>Local playlist more</td>\n      <td>local-playlist</td>\n      <td>1</td>\n    </tr>\n    <tr>\n      <th>2</th>\n      <td>Xumu+NIjS6QYVxDS4/t3SawvJ7viT9hPKXmf0RtLNx8=</td>\n      <td>JNWfrrC7zNN7BdMpsISKa4Mw+xVJYNnxXh3/Epw7QgY=</td>\n      <td>my library</td>\n      <td>Local playlist more</td>\n      <td>local-playlist</td>\n      <td>1</td>\n    </tr>\n    <tr>\n      <th>3</th>\n      <td>Xumu+NIjS6QYVxDS4/t3SawvJ7viT9hPKXmf0RtLNx8=</td>\n      <td>2A87tzfnJTSWqD7gIZHisolhe4DMdzkbd6LzO1KHjNs=</td>\n      <td>my library</td>\n      <td>Local playlist more</td>\n      <td>local-playlist</td>\n      <td>1</td>\n    </tr>\n    <tr>\n      <th>4</th>\n      <td>FGtllVqz18RPiwJj/edr2gV78zirAiY/9SmYvia+kCg=</td>\n      <td>3qm6XTZ6MOCU11x8FIVbAGH5l5uMkT3/ZalWG1oo2Gc=</td>\n      <td>explore</td>\n      <td>Explore</td>\n      <td>online-playlist</td>\n      <td>1</td>\n    </tr>\n    <tr>\n      <th>...</th>\n      <td>...</td>\n      <td>...</td>\n      <td>...</td>\n      <td>...</td>\n      <td>...</td>\n      <td>...</td>\n    </tr>\n    <tr>\n      <th>7377413</th>\n      <td>6xdFzPlrasIDD95mQWXVC3Bg4ptnGYtBl4ztVEZMddU=</td>\n      <td>VJTxizih/o28kXCbtPbIyWXScoXGvxyYtl6R+0YB5JM=</td>\n      <td>my library</td>\n      <td>Local playlist more</td>\n      <td>local-playlist</td>\n      <td>1</td>\n    </tr>\n    <tr>\n      <th>7377414</th>\n      <td>ZxbVmt3Kh/XOH+h58c2Kdj6SjFZk+wnUO006IgWzMQE=</td>\n      <td>z1mqaU9YOX7T/PFDvUoWozdFq7rC3KwaQP7nFVprjMI=</td>\n      <td>search</td>\n      <td>Search</td>\n      <td>song</td>\n      <td>0</td>\n    </tr>\n    <tr>\n      <th>7377415</th>\n      <td>ZxbVmt3Kh/XOH+h58c2Kdj6SjFZk+wnUO006IgWzMQE=</td>\n      <td>750RprmFfLV0bymtDH88g24pLZGVi5VpBAI300P6UOA=</td>\n      <td>search</td>\n      <td>Search</td>\n      <td>song</td>\n      <td>1</td>\n    </tr>\n    <tr>\n      <th>7377416</th>\n      <td>0aH4Hd3ziPSRHClRX8rkeOEaAG5EPPkW1mKGCdXEok0=</td>\n      <td>G8wgqObgeAMER/rVCIlgcNeQ8mm0CzF/GsxiMK8TTnA=</td>\n      <td>discover</td>\n      <td>Discover Genre</td>\n      <td>online-playlist</td>\n      <td>1</td>\n    </tr>\n    <tr>\n      <th>7377417</th>\n      <td>0aH4Hd3ziPSRHClRX8rkeOEaAG5EPPkW1mKGCdXEok0=</td>\n      <td>Ju0VGkjWeBUZCd7r5Az2hUImhMoWxWLUicOedsmvG0g=</td>\n      <td>discover</td>\n      <td>Discover Genre</td>\n      <td>online-playlist</td>\n      <td>1</td>\n    </tr>\n  </tbody>\n</table>\n<p>7377418 rows × 6 columns</p>\n</div>"
     },
     "execution_count": 2,
     "metadata": {},
     "output_type": "execute_result"
    }
   ],
   "source": [
    "data_path = \"data/\"\n",
    "dataset_train = pd.read_csv(data_path + \"train.csv\")\n",
    "\n",
    "dataset_train"
   ],
   "metadata": {
    "collapsed": false,
    "pycharm": {
     "name": "#%%\n"
    }
   }
  },
  {
   "cell_type": "code",
   "source": [
    "dataset_train.isnull().sum(axis=0)"
   ],
   "metadata": {
    "collapsed": false,
    "pycharm": {
     "name": "#%%\n"
    }
   },
   "execution_count": 3,
   "outputs": [
    {
     "data": {
      "text/plain": "msno                       0\nsong_id                    0\nsource_system_tab      24849\nsource_screen_name    414804\nsource_type            21539\ntarget                     0\ndtype: int64"
     },
     "execution_count": 3,
     "metadata": {},
     "output_type": "execute_result"
    }
   ]
  },
  {
   "cell_type": "code",
   "execution_count": 4,
   "outputs": [],
   "source": [
    "dataset_train['source_system_tab'] = dataset_train['source_system_tab'].fillna('unknown')\n",
    "dataset_train['source_screen_name'] = dataset_train['source_screen_name'].fillna('unknown')\n",
    "dataset_train['source_type'] = dataset_train['source_type'].fillna('unknown')"
   ],
   "metadata": {
    "collapsed": false,
    "pycharm": {
     "name": "#%%\n"
    }
   }
  },
  {
   "cell_type": "code",
   "execution_count": 5,
   "outputs": [
    {
     "data": {
      "text/plain": "                                           msno  city  bd gender  \\\n0  XQxgAYj3klVKjR3oxPPXYYFp4soD4TuBghkhMTD4oTw=     1   0    NaN   \n1  UizsfmJb9mV54qE9hCYyU07Va97c0lCRLEQX3ae+ztM=     1   0    NaN   \n2  D8nEhsIOBSoE6VthTaqDX8U6lqjJ7dLdr72mOyLya2A=     1   0    NaN   \n3  mCuD+tZ1hERA/o5GPqk38e041J8ZsBaLcu7nGoIIvhI=     1   0    NaN   \n4  q4HRBfVSssAFS9iRfxWrohxuk9kCYMKjHOEagUMV6rQ=     1   0    NaN   \n\n   registered_via  registration_init_time  expiration_date  \n0               7                20110820         20170920  \n1               7                20150628         20170622  \n2               4                20160411         20170712  \n3               9                20150906         20150907  \n4               4                20170126         20170613  ",
      "text/html": "<div>\n<style scoped>\n    .dataframe tbody tr th:only-of-type {\n        vertical-align: middle;\n    }\n\n    .dataframe tbody tr th {\n        vertical-align: top;\n    }\n\n    .dataframe thead th {\n        text-align: right;\n    }\n</style>\n<table border=\"1\" class=\"dataframe\">\n  <thead>\n    <tr style=\"text-align: right;\">\n      <th></th>\n      <th>msno</th>\n      <th>city</th>\n      <th>bd</th>\n      <th>gender</th>\n      <th>registered_via</th>\n      <th>registration_init_time</th>\n      <th>expiration_date</th>\n    </tr>\n  </thead>\n  <tbody>\n    <tr>\n      <th>0</th>\n      <td>XQxgAYj3klVKjR3oxPPXYYFp4soD4TuBghkhMTD4oTw=</td>\n      <td>1</td>\n      <td>0</td>\n      <td>NaN</td>\n      <td>7</td>\n      <td>20110820</td>\n      <td>20170920</td>\n    </tr>\n    <tr>\n      <th>1</th>\n      <td>UizsfmJb9mV54qE9hCYyU07Va97c0lCRLEQX3ae+ztM=</td>\n      <td>1</td>\n      <td>0</td>\n      <td>NaN</td>\n      <td>7</td>\n      <td>20150628</td>\n      <td>20170622</td>\n    </tr>\n    <tr>\n      <th>2</th>\n      <td>D8nEhsIOBSoE6VthTaqDX8U6lqjJ7dLdr72mOyLya2A=</td>\n      <td>1</td>\n      <td>0</td>\n      <td>NaN</td>\n      <td>4</td>\n      <td>20160411</td>\n      <td>20170712</td>\n    </tr>\n    <tr>\n      <th>3</th>\n      <td>mCuD+tZ1hERA/o5GPqk38e041J8ZsBaLcu7nGoIIvhI=</td>\n      <td>1</td>\n      <td>0</td>\n      <td>NaN</td>\n      <td>9</td>\n      <td>20150906</td>\n      <td>20150907</td>\n    </tr>\n    <tr>\n      <th>4</th>\n      <td>q4HRBfVSssAFS9iRfxWrohxuk9kCYMKjHOEagUMV6rQ=</td>\n      <td>1</td>\n      <td>0</td>\n      <td>NaN</td>\n      <td>4</td>\n      <td>20170126</td>\n      <td>20170613</td>\n    </tr>\n  </tbody>\n</table>\n</div>"
     },
     "execution_count": 5,
     "metadata": {},
     "output_type": "execute_result"
    }
   ],
   "source": [
    "dataset_members = pd.read_csv(data_path + \"members.csv\")\n",
    "dataset_members.head()"
   ],
   "metadata": {
    "collapsed": false,
    "pycharm": {
     "name": "#%%\n"
    }
   }
  },
  {
   "cell_type": "markdown",
   "source": [
    "Проверим, что в тренировочном датасете отсутсвуют неизвестные пользователи, то есть пользователи которых нет в members.csv"
   ],
   "metadata": {
    "collapsed": false
   }
  },
  {
   "cell_type": "code",
   "execution_count": 6,
   "outputs": [
    {
     "data": {
      "text/plain": "0"
     },
     "execution_count": 6,
     "metadata": {},
     "output_type": "execute_result"
    }
   ],
   "source": [
    "len(set(dataset_train['msno']) - set(dataset_members['msno']))"
   ],
   "metadata": {
    "collapsed": false,
    "pycharm": {
     "name": "#%%\n"
    }
   }
  },
  {
   "cell_type": "code",
   "execution_count": 7,
   "outputs": [
    {
     "data": {
      "text/plain": "msno                          0\ncity                          0\nbd                            0\ngender                    19902\nregistered_via                0\nregistration_init_time        0\nexpiration_date               0\ndtype: int64"
     },
     "execution_count": 7,
     "metadata": {},
     "output_type": "execute_result"
    }
   ],
   "source": [
    "dataset_members.isnull().sum(axis=0)"
   ],
   "metadata": {
    "collapsed": false,
    "pycharm": {
     "name": "#%%\n"
    }
   }
  },
  {
   "cell_type": "code",
   "execution_count": 8,
   "outputs": [],
   "source": [
    "dataset_members['gender'] = dataset_members['gender'].fillna('unknown')"
   ],
   "metadata": {
    "collapsed": false,
    "pycharm": {
     "name": "#%%\n"
    }
   }
  },
  {
   "cell_type": "code",
   "execution_count": 9,
   "outputs": [
    {
     "data": {
      "text/plain": "msno                      object\ncity                       int64\nbd                         int64\ngender                    object\nregistered_via             int64\nregistration_init_time     int64\nexpiration_date            int64\ndtype: object"
     },
     "execution_count": 9,
     "metadata": {},
     "output_type": "execute_result"
    }
   ],
   "source": [
    "dataset_members.dtypes"
   ],
   "metadata": {
    "collapsed": false,
    "pycharm": {
     "name": "#%%\n"
    }
   }
  },
  {
   "cell_type": "markdown",
   "source": [
    "Поменяем важные численные признаки, которые принимают всего по несколько значений, на категориальные"
   ],
   "metadata": {
    "collapsed": false
   }
  },
  {
   "cell_type": "code",
   "execution_count": 10,
   "outputs": [],
   "source": [
    "dataset_members['city'] = dataset_members['city'].astype(str)\n",
    "dataset_members['registered_via'] = dataset_members['registered_via'].astype(str)"
   ],
   "metadata": {
    "collapsed": false,
    "pycharm": {
     "name": "#%%\n"
    }
   }
  },
  {
   "cell_type": "code",
   "execution_count": 11,
   "outputs": [
    {
     "data": {
      "text/plain": "count    34403.000000\nmean        12.280935\nstd         18.170251\nmin        -43.000000\n25%          0.000000\n50%          0.000000\n75%         25.000000\nmax       1051.000000\nName: bd, dtype: float64"
     },
     "execution_count": 11,
     "metadata": {},
     "output_type": "execute_result"
    }
   ],
   "source": [
    "dataset_members['bd'].describe()"
   ],
   "metadata": {
    "collapsed": false,
    "pycharm": {
     "name": "#%%\n"
    }
   }
  },
  {
   "cell_type": "markdown",
   "source": [
    "Возраст имеет огромные выбросы от -43 до 1051, а также огромное количество нулей.\n",
    "Будем считать значение выбросом если оно меньше 7 лет или больше 80.\n",
    "Вместо всех таких выбросов напишем 0, чтобы потом классифицировать их в возрастную группу unknown."
   ],
   "metadata": {
    "collapsed": false
   }
  },
  {
   "cell_type": "code",
   "execution_count": 12,
   "outputs": [
    {
     "data": {
      "text/plain": "unknown    19972\n23-35       7033\n18-23       3286\n35-50       2472\n7-18        1226\n50plus       414\nName: age_group, dtype: int64"
     },
     "execution_count": 12,
     "metadata": {},
     "output_type": "execute_result"
    }
   ],
   "source": [
    "dataset_members['bd'] = dataset_members['bd'].apply(lambda x: 0 if x < 7 or x > 80 else x)\n",
    "\n",
    "age_separators = [-1, 7, 18, 23, 35, 50, np.inf]\n",
    "names = ['unknown', '7-18', '18-23', '23-35', '35-50', '50plus']\n",
    "dataset_members['age_group'] = pd.cut(dataset_members['bd'], age_separators, labels=names)\n",
    "dataset_members['age_group'].value_counts()"
   ],
   "metadata": {
    "collapsed": false,
    "pycharm": {
     "name": "#%%\n"
    }
   }
  },
  {
   "cell_type": "markdown",
   "source": [
    "Выкинем уже ненужные признаки и обьединим dataset_members c общим датасетом."
   ],
   "metadata": {
    "collapsed": false
   }
  },
  {
   "cell_type": "code",
   "execution_count": 13,
   "outputs": [],
   "source": [
    "dataset_members.drop(['bd', 'registration_init_time', 'expiration_date'], axis=1, inplace=True)\n",
    "dataset_train = dataset_train.merge(dataset_members, on='msno', how='left')"
   ],
   "metadata": {
    "collapsed": false,
    "pycharm": {
     "name": "#%%\n"
    }
   }
  },
  {
   "cell_type": "code",
   "execution_count": 14,
   "outputs": [
    {
     "data": {
      "text/plain": "                                        song_id  song_length genre_ids  \\\n0  CXoTN1eb7AI+DntdU1vbcwGRV4SCIDxZu+YD8JP8r4E=       247640       465   \n1  o0kFgae9QtnYgRkVPqLJwa05zIhRlUjfF7O1tDw0ZDU=       197328       444   \n2  DwVvVurfpuz+XPuFvucclVQEyPqcpUkHR0ne1RQzPs0=       231781       465   \n3  dKMBWoZyScdxSkihKG+Vf47nc18N9q4m58+b4e7dSSE=       273554       465   \n4  W3bqWd3T+VeHFzHAUfARgW9AvVRaF4N5Yzm4Mr6Eo/o=       140329       726   \n\n        artist_name                            composer     lyricist  language  \n0  張信哲 (Jeff Chang)                                  董貞          何啟弘       3.0  \n1         BLACKPINK  TEDDY|  FUTURE BOUNCE|  Bekuh BOOM        TEDDY      31.0  \n2      SUPER JUNIOR                                 NaN          NaN      31.0  \n3             S.H.E                                 湯小康          徐世珍       3.0  \n4              貴族精選                         Traditional  Traditional      52.0  ",
      "text/html": "<div>\n<style scoped>\n    .dataframe tbody tr th:only-of-type {\n        vertical-align: middle;\n    }\n\n    .dataframe tbody tr th {\n        vertical-align: top;\n    }\n\n    .dataframe thead th {\n        text-align: right;\n    }\n</style>\n<table border=\"1\" class=\"dataframe\">\n  <thead>\n    <tr style=\"text-align: right;\">\n      <th></th>\n      <th>song_id</th>\n      <th>song_length</th>\n      <th>genre_ids</th>\n      <th>artist_name</th>\n      <th>composer</th>\n      <th>lyricist</th>\n      <th>language</th>\n    </tr>\n  </thead>\n  <tbody>\n    <tr>\n      <th>0</th>\n      <td>CXoTN1eb7AI+DntdU1vbcwGRV4SCIDxZu+YD8JP8r4E=</td>\n      <td>247640</td>\n      <td>465</td>\n      <td>張信哲 (Jeff Chang)</td>\n      <td>董貞</td>\n      <td>何啟弘</td>\n      <td>3.0</td>\n    </tr>\n    <tr>\n      <th>1</th>\n      <td>o0kFgae9QtnYgRkVPqLJwa05zIhRlUjfF7O1tDw0ZDU=</td>\n      <td>197328</td>\n      <td>444</td>\n      <td>BLACKPINK</td>\n      <td>TEDDY|  FUTURE BOUNCE|  Bekuh BOOM</td>\n      <td>TEDDY</td>\n      <td>31.0</td>\n    </tr>\n    <tr>\n      <th>2</th>\n      <td>DwVvVurfpuz+XPuFvucclVQEyPqcpUkHR0ne1RQzPs0=</td>\n      <td>231781</td>\n      <td>465</td>\n      <td>SUPER JUNIOR</td>\n      <td>NaN</td>\n      <td>NaN</td>\n      <td>31.0</td>\n    </tr>\n    <tr>\n      <th>3</th>\n      <td>dKMBWoZyScdxSkihKG+Vf47nc18N9q4m58+b4e7dSSE=</td>\n      <td>273554</td>\n      <td>465</td>\n      <td>S.H.E</td>\n      <td>湯小康</td>\n      <td>徐世珍</td>\n      <td>3.0</td>\n    </tr>\n    <tr>\n      <th>4</th>\n      <td>W3bqWd3T+VeHFzHAUfARgW9AvVRaF4N5Yzm4Mr6Eo/o=</td>\n      <td>140329</td>\n      <td>726</td>\n      <td>貴族精選</td>\n      <td>Traditional</td>\n      <td>Traditional</td>\n      <td>52.0</td>\n    </tr>\n  </tbody>\n</table>\n</div>"
     },
     "execution_count": 14,
     "metadata": {},
     "output_type": "execute_result"
    }
   ],
   "source": [
    "dataset_songs = pd.read_csv(data_path + \"songs.csv\")\n",
    "dataset_songs.head()"
   ],
   "metadata": {
    "collapsed": false,
    "pycharm": {
     "name": "#%%\n"
    }
   }
  },
  {
   "cell_type": "code",
   "execution_count": 15,
   "outputs": [
    {
     "data": {
      "text/plain": "song_id              0\nsong_length          0\ngenre_ids        94116\nartist_name          0\ncomposer       1071354\nlyricist       1945268\nlanguage             1\ndtype: int64"
     },
     "execution_count": 15,
     "metadata": {},
     "output_type": "execute_result"
    }
   ],
   "source": [
    "dataset_songs.isnull().sum(axis=0)"
   ],
   "metadata": {
    "collapsed": false,
    "pycharm": {
     "name": "#%%\n"
    }
   }
  },
  {
   "cell_type": "markdown",
   "source": [
    "Для пропущенных жанров введем значение unknown, а также если в качестве жанра подано сразу несколько чере '|' то будем брать первый."
   ],
   "metadata": {
    "collapsed": false
   }
  },
  {
   "cell_type": "code",
   "execution_count": 16,
   "outputs": [],
   "source": [
    "def cleane_genre(genre):\n",
    "    pos_separator = genre.find('|')\n",
    "    return genre if pos_separator == -1 else genre[:pos_separator]\n",
    "\n",
    "dataset_songs['genre_ids'].fillna('unknown', inplace=True)\n",
    "dataset_songs['genre_ids'] = dataset_songs['genre_ids'].apply(cleane_genre)"
   ],
   "metadata": {
    "collapsed": false,
    "pycharm": {
     "name": "#%%\n"
    }
   }
  },
  {
   "cell_type": "markdown",
   "source": [
    "Будем считать корректную длину песни от 30 секунд до 20 минут, остальные значения заменим медианой"
   ],
   "metadata": {
    "collapsed": false
   }
  },
  {
   "cell_type": "code",
   "execution_count": 17,
   "outputs": [],
   "source": [
    "valid_length = np.logical_and(dataset_songs.song_length >= 0.5 * 60 * 1e3,\n",
    "                              dataset_songs.song_length <= 20 * 60 * 1e3)\n",
    "length_median = np.median(dataset_songs[valid_length].song_length)\n",
    "dataset_songs.loc[~valid_length, 'song_length'] = length_median"
   ],
   "metadata": {
    "collapsed": false,
    "pycharm": {
     "name": "#%%\n"
    }
   }
  },
  {
   "cell_type": "code",
   "execution_count": 18,
   "outputs": [],
   "source": [
    "most_frequent_lang = dataset_songs['language'].mode()[0]\n",
    "dataset_songs['language'] = dataset_songs['language'].fillna(int(most_frequent_lang)).astype(str)"
   ],
   "metadata": {
    "collapsed": false,
    "pycharm": {
     "name": "#%%\n"
    }
   }
  },
  {
   "cell_type": "markdown",
   "source": [
    "Аналогично, как и с пользователями - проверим, что в общем датасете отсутсвуют неизвестные песни, то есть песни которых нет в songs.csv.\n",
    "Оказалось есть совсем немного таких песен, заполним их дефолтными значениями."
   ],
   "metadata": {
    "collapsed": false,
    "pycharm": {
     "name": "#%% md\n"
    }
   }
  },
  {
   "cell_type": "code",
   "execution_count": 19,
   "outputs": [
    {
     "data": {
      "text/plain": "52"
     },
     "execution_count": 19,
     "metadata": {},
     "output_type": "execute_result"
    }
   ],
   "source": [
    "missing_song_ids = set(dataset_train['song_id']) - set(dataset_songs['song_id'])\n",
    "len(missing_song_ids)"
   ],
   "metadata": {
    "collapsed": false,
    "pycharm": {
     "name": "#%%\n"
    }
   }
  },
  {
   "cell_type": "code",
   "execution_count": 20,
   "outputs": [],
   "source": [
    "dataset_songs.drop(['composer', 'lyricist'], axis=1, inplace=True)\n",
    "dataset_train = dataset_train.merge(dataset_songs, on='song_id', how='left')"
   ],
   "metadata": {
    "collapsed": false,
    "pycharm": {
     "name": "#%%\n"
    }
   }
  },
  {
   "cell_type": "code",
   "execution_count": 21,
   "outputs": [
    {
     "data": {
      "text/plain": "                                        song_id             name          isrc\n0  LP7pLJoJFBvyuUwvu+oLzjT+bI+UeBPURCecJsX1jjs=               我們  TWUM71200043\n1  ClazTFnk6r0Bnuie44bocdNMM3rdlrq0bCGAsGUWcHE=  Let Me Love You  QMZSY1600015\n2  u2ja/bZE3zhCGxvbbOB3zOoUjx27u40cf5g09UXMoKQ=              原諒我  TWA530887303\n3  92Fqsy0+p6+RHe2EoLKjHahORHR1Kq1TBJoClW9v+Ts=          Classic  USSM11301446\n4  0QFmz/+rJy1Q56C1DuYqT9hKKqi5TUqx0sN0IwvoHrw=             愛投羅網  TWA471306001",
      "text/html": "<div>\n<style scoped>\n    .dataframe tbody tr th:only-of-type {\n        vertical-align: middle;\n    }\n\n    .dataframe tbody tr th {\n        vertical-align: top;\n    }\n\n    .dataframe thead th {\n        text-align: right;\n    }\n</style>\n<table border=\"1\" class=\"dataframe\">\n  <thead>\n    <tr style=\"text-align: right;\">\n      <th></th>\n      <th>song_id</th>\n      <th>name</th>\n      <th>isrc</th>\n    </tr>\n  </thead>\n  <tbody>\n    <tr>\n      <th>0</th>\n      <td>LP7pLJoJFBvyuUwvu+oLzjT+bI+UeBPURCecJsX1jjs=</td>\n      <td>我們</td>\n      <td>TWUM71200043</td>\n    </tr>\n    <tr>\n      <th>1</th>\n      <td>ClazTFnk6r0Bnuie44bocdNMM3rdlrq0bCGAsGUWcHE=</td>\n      <td>Let Me Love You</td>\n      <td>QMZSY1600015</td>\n    </tr>\n    <tr>\n      <th>2</th>\n      <td>u2ja/bZE3zhCGxvbbOB3zOoUjx27u40cf5g09UXMoKQ=</td>\n      <td>原諒我</td>\n      <td>TWA530887303</td>\n    </tr>\n    <tr>\n      <th>3</th>\n      <td>92Fqsy0+p6+RHe2EoLKjHahORHR1Kq1TBJoClW9v+Ts=</td>\n      <td>Classic</td>\n      <td>USSM11301446</td>\n    </tr>\n    <tr>\n      <th>4</th>\n      <td>0QFmz/+rJy1Q56C1DuYqT9hKKqi5TUqx0sN0IwvoHrw=</td>\n      <td>愛投羅網</td>\n      <td>TWA471306001</td>\n    </tr>\n  </tbody>\n</table>\n</div>"
     },
     "execution_count": 21,
     "metadata": {},
     "output_type": "execute_result"
    }
   ],
   "source": [
    "dataset_extra_songs = pd.read_csv(data_path + \"song_extra_info.csv\")\n",
    "dataset_extra_songs.head()"
   ],
   "metadata": {
    "collapsed": false,
    "pycharm": {
     "name": "#%%\n"
    }
   }
  },
  {
   "cell_type": "code",
   "execution_count": 22,
   "outputs": [
    {
     "data": {
      "text/plain": "song_id         0\nname            2\nisrc       136548\ndtype: int64"
     },
     "execution_count": 22,
     "metadata": {},
     "output_type": "execute_result"
    }
   ],
   "source": [
    "dataset_extra_songs.isnull().sum(axis=0)"
   ],
   "metadata": {
    "collapsed": false,
    "pycharm": {
     "name": "#%%\n"
    }
   }
  },
  {
   "cell_type": "code",
   "execution_count": 23,
   "outputs": [],
   "source": [
    "def parse_year(isrc):\n",
    "    if type(isrc) == str:\n",
    "        year = int(isrc[5:7])\n",
    "        return 1900 + year if year > 21 else 2000 + year\n",
    "    else:\n",
    "        return np.nan\n",
    "\n",
    "dataset_extra_songs['song_year'] = dataset_extra_songs['isrc'].apply(parse_year)"
   ],
   "metadata": {
    "collapsed": false,
    "pycharm": {
     "name": "#%%\n"
    }
   }
  },
  {
   "cell_type": "code",
   "execution_count": 24,
   "outputs": [],
   "source": [
    "dataset_extra_songs.drop(['name', 'isrc'], axis=1, inplace=True)\n",
    "dataset_train = dataset_train.merge(dataset_extra_songs, on='song_id', how='left')"
   ],
   "metadata": {
    "collapsed": false,
    "pycharm": {
     "name": "#%%\n"
    }
   }
  },
  {
   "cell_type": "code",
   "execution_count": 25,
   "outputs": [
    {
     "data": {
      "text/plain": "msno                       0\nsong_id                    0\nsource_system_tab          0\nsource_screen_name         0\nsource_type                0\ntarget                     0\ncity                       0\ngender                     0\nregistered_via             0\nage_group                  0\nsong_length              114\ngenre_ids                114\nartist_name              114\nlanguage                 114\nsong_year             577858\ndtype: int64"
     },
     "execution_count": 25,
     "metadata": {},
     "output_type": "execute_result"
    }
   ],
   "source": [
    "dataset_train.isnull().sum(axis=0)"
   ],
   "metadata": {
    "collapsed": false,
    "pycharm": {
     "name": "#%%\n"
    }
   }
  },
  {
   "cell_type": "markdown",
   "source": [
    "Остались только пропущенные значения, которые получились при слиянии датасетов, тк не все song_ids были в songs.csv и extra_songs.csv"
   ],
   "metadata": {
    "collapsed": false
   }
  },
  {
   "cell_type": "code",
   "execution_count": 26,
   "outputs": [],
   "source": [
    "dataset_train['song_length'].fillna(length_median, inplace=True)\n",
    "dataset_train['genre_ids'].fillna(dataset_train['genre_ids'].mode()[0], inplace=True)\n",
    "dataset_train['artist_name'].fillna('unknown', inplace=True)\n",
    "dataset_train['language'].fillna(str(most_frequent_lang), inplace=True)\n",
    "dataset_train['song_year'].fillna(int(dataset_train['song_year'].mean()), inplace=True)"
   ],
   "metadata": {
    "collapsed": false,
    "pycharm": {
     "name": "#%%\n"
    }
   }
  },
  {
   "cell_type": "markdown",
   "source": [
    "Добавим еще новые признаки, счетчик количества прослушиваний для пользователя,\n",
    "и счетчик количества прослушиваний для песни."
   ],
   "metadata": {
    "collapsed": false
   }
  },
  {
   "cell_type": "code",
   "execution_count": 27,
   "outputs": [],
   "source": [
    "dataset_train['member_counts'] = dataset_train.groupby('msno')['msno'].transform('count')\n",
    "dataset_train['song_counts'] = dataset_train.groupby('song_id')['song_id'].transform('count')"
   ],
   "metadata": {
    "collapsed": false,
    "pycharm": {
     "name": "#%%\n"
    }
   }
  },
  {
   "cell_type": "code",
   "execution_count": 28,
   "outputs": [],
   "source": [
    "y = dataset_train['target']\n",
    "dataset_train.drop(['msno','song_id', 'target', 'artist_name'], axis=1, inplace=True)"
   ],
   "metadata": {
    "collapsed": false,
    "pycharm": {
     "name": "#%%\n"
    }
   }
  },
  {
   "cell_type": "code",
   "execution_count": 29,
   "outputs": [
    {
     "data": {
      "text/plain": "source_system_tab     category\nsource_screen_name    category\nsource_type           category\ncity                  category\ngender                category\nregistered_via        category\nage_group             category\nsong_length            float64\ngenre_ids             category\nlanguage              category\nsong_year              float64\nmember_counts            int64\nsong_counts              int64\ndtype: object"
     },
     "execution_count": 29,
     "metadata": {},
     "output_type": "execute_result"
    }
   ],
   "source": [
    "for col in dataset_train.select_dtypes(include=['object']).columns:\n",
    "    dataset_train[col] = dataset_train[col].astype('category')\n",
    "\n",
    "dataset_train.dtypes"
   ],
   "metadata": {
    "collapsed": false,
    "pycharm": {
     "name": "#%%\n"
    }
   }
  },
  {
   "cell_type": "code",
   "execution_count": 30,
   "outputs": [],
   "source": [
    "cat_features = dataset_train.dtypes[dataset_train.dtypes == \"category\"].index.to_list()\n",
    "pool = Pool(data=dataset_train, label=y, cat_features=cat_features, has_header=True)"
   ],
   "metadata": {
    "collapsed": false,
    "pycharm": {
     "name": "#%%\n"
    }
   }
  },
  {
   "cell_type": "code",
   "execution_count": 31,
   "outputs": [
    {
     "name": "stdout",
     "output_type": "stream",
     "text": [
      "\n",
      "bestTest = 0.6829023411\n",
      "bestIteration = 99\n",
      "\n",
      "0:\tloss: 0.6829023\tbest: 0.6829023 (0)\ttotal: 2m 52s\tremaining: 48m 58s\n",
      "\n",
      "bestTest = 0.6426209865\n",
      "bestIteration = 99\n",
      "\n",
      "1:\tloss: 0.6426210\tbest: 0.6426210 (1)\ttotal: 5m 50s\tremaining: 46m 44s\n",
      "\n",
      "bestTest = 0.6248135513\n",
      "bestIteration = 99\n",
      "\n",
      "2:\tloss: 0.6248136\tbest: 0.6248136 (2)\ttotal: 8m 44s\tremaining: 43m 40s\n",
      "\n",
      "bestTest = 0.6828864172\n",
      "bestIteration = 99\n",
      "\n",
      "3:\tloss: 0.6828864\tbest: 0.6248136 (2)\ttotal: 11m 33s\tremaining: 40m 28s\n",
      "\n",
      "bestTest = 0.6425791722\n",
      "bestIteration = 99\n",
      "\n",
      "4:\tloss: 0.6425792\tbest: 0.6248136 (2)\ttotal: 14m 58s\tremaining: 38m 57s\n",
      "\n",
      "bestTest = 0.6247472131\n",
      "bestIteration = 99\n",
      "\n",
      "5:\tloss: 0.6247472\tbest: 0.6247472 (5)\ttotal: 18m 24s\tremaining: 36m 49s\n",
      "\n",
      "bestTest = 0.68289197\n",
      "bestIteration = 99\n",
      "\n",
      "6:\tloss: 0.6828920\tbest: 0.6247472 (5)\ttotal: 21m 33s\tremaining: 33m 53s\n",
      "\n",
      "bestTest = 0.6426275412\n",
      "bestIteration = 99\n",
      "\n",
      "7:\tloss: 0.6426275\tbest: 0.6247472 (5)\ttotal: 24m 42s\tremaining: 30m 53s\n",
      "\n",
      "bestTest = 0.6247278277\n",
      "bestIteration = 99\n",
      "\n",
      "8:\tloss: 0.6247278\tbest: 0.6247278 (8)\ttotal: 27m 47s\tremaining: 27m 47s\n",
      "\n",
      "bestTest = 0.6821480381\n",
      "bestIteration = 99\n",
      "\n",
      "9:\tloss: 0.6821480\tbest: 0.6247278 (8)\ttotal: 31m 44s\tremaining: 25m 23s\n",
      "\n",
      "bestTest = 0.6394149329\n",
      "bestIteration = 99\n",
      "\n",
      "10:\tloss: 0.6394149\tbest: 0.6247278 (8)\ttotal: 35m 45s\tremaining: 22m 45s\n",
      "\n",
      "bestTest = 0.619554408\n",
      "bestIteration = 99\n",
      "\n",
      "11:\tloss: 0.6195544\tbest: 0.6195544 (11)\ttotal: 40m 16s\tremaining: 20m 8s\n",
      "\n",
      "bestTest = 0.6821542031\n",
      "bestIteration = 99\n",
      "\n",
      "12:\tloss: 0.6821542\tbest: 0.6195544 (11)\ttotal: 44m 53s\tremaining: 17m 15s\n",
      "\n",
      "bestTest = 0.6394973863\n",
      "bestIteration = 99\n",
      "\n",
      "13:\tloss: 0.6394974\tbest: 0.6195544 (11)\ttotal: 49m 22s\tremaining: 14m 6s\n",
      "\n",
      "bestTest = 0.619309966\n",
      "bestIteration = 99\n",
      "\n",
      "14:\tloss: 0.6193100\tbest: 0.6193100 (14)\ttotal: 54m 15s\tremaining: 10m 51s\n",
      "\n",
      "bestTest = 0.6821473304\n",
      "bestIteration = 99\n",
      "\n",
      "15:\tloss: 0.6821473\tbest: 0.6193100 (14)\ttotal: 58m 32s\tremaining: 7m 19s\n",
      "\n",
      "bestTest = 0.6394770215\n",
      "bestIteration = 99\n",
      "\n",
      "16:\tloss: 0.6394770\tbest: 0.6193100 (14)\ttotal: 1h 2m 36s\tremaining: 3m 40s\n",
      "\n",
      "bestTest = 0.6196971963\n",
      "bestIteration = 99\n",
      "\n",
      "17:\tloss: 0.6196972\tbest: 0.6193100 (14)\ttotal: 1h 6m 54s\tremaining: 0us\n",
      "Estimating final quality...\n"
     ]
    }
   ],
   "source": [
    "\n",
    "model = CatBoostClassifier(loss_function='CrossEntropy', iterations=100)\n",
    "param_grid = {'learning_rate': [0.001, 0.01, 0.1],\n",
    "              'l2_leaf_reg': [0.01, 1.0, 3.0],\n",
    "              'depth': [6, 10]}\n",
    "grid_search_result = model.grid_search(param_grid, pool)"
   ],
   "metadata": {
    "collapsed": false,
    "pycharm": {
     "name": "#%%\n"
    }
   }
  },
  {
   "cell_type": "code",
   "execution_count": 32,
   "outputs": [
    {
     "data": {
      "text/plain": "{'depth': 10, 'learning_rate': 0.1, 'l2_leaf_reg': 1.0}"
     },
     "execution_count": 32,
     "metadata": {},
     "output_type": "execute_result"
    }
   ],
   "source": [
    "best_params = grid_search_result['params']\n",
    "best_params"
   ],
   "metadata": {
    "collapsed": false,
    "pycharm": {
     "name": "#%%\n"
    }
   }
  },
  {
   "cell_type": "code",
   "execution_count": 33,
   "outputs": [
    {
     "name": "stdout",
     "output_type": "stream",
     "text": [
      "0:\tlearn: 0.6816841\ttest: 0.6816832\tbest: 0.6816832 (0)\ttotal: 31.5s\tremaining: 51m 58s\n",
      "1:\tlearn: 0.6724100\ttest: 0.6724095\tbest: 0.6724095 (1)\ttotal: 56.8s\tremaining: 46m 21s\n",
      "2:\tlearn: 0.6649529\ttest: 0.6649533\tbest: 0.6649533 (2)\ttotal: 1m 18s\tremaining: 42m 33s\n",
      "3:\tlearn: 0.6589109\ttest: 0.6589120\tbest: 0.6589120 (3)\ttotal: 1m 37s\tremaining: 38m 55s\n",
      "4:\tlearn: 0.6539940\ttest: 0.6539967\tbest: 0.6539967 (4)\ttotal: 1m 58s\tremaining: 37m 26s\n",
      "5:\tlearn: 0.6499063\ttest: 0.6499159\tbest: 0.6499159 (5)\ttotal: 2m 16s\tremaining: 35m 39s\n",
      "6:\tlearn: 0.6464605\ttest: 0.6464751\tbest: 0.6464751 (6)\ttotal: 2m 38s\tremaining: 35m\n",
      "7:\tlearn: 0.6435985\ttest: 0.6436149\tbest: 0.6436149 (7)\ttotal: 2m 56s\tremaining: 33m 55s\n",
      "8:\tlearn: 0.6411751\ttest: 0.6411938\tbest: 0.6411938 (8)\ttotal: 3m 17s\tremaining: 33m 12s\n",
      "9:\tlearn: 0.6390532\ttest: 0.6390707\tbest: 0.6390707 (9)\ttotal: 3m 34s\tremaining: 32m 10s\n",
      "10:\tlearn: 0.6373228\ttest: 0.6373442\tbest: 0.6373442 (10)\ttotal: 3m 54s\tremaining: 31m 41s\n",
      "11:\tlearn: 0.6358555\ttest: 0.6358829\tbest: 0.6358829 (11)\ttotal: 4m 12s\tremaining: 30m 55s\n",
      "12:\tlearn: 0.6345910\ttest: 0.6346183\tbest: 0.6346183 (12)\ttotal: 4m 31s\tremaining: 30m 14s\n",
      "13:\tlearn: 0.6335330\ttest: 0.6335612\tbest: 0.6335612 (13)\ttotal: 4m 49s\tremaining: 29m 40s\n",
      "14:\tlearn: 0.6326014\ttest: 0.6326354\tbest: 0.6326354 (14)\ttotal: 5m 15s\tremaining: 29m 48s\n",
      "15:\tlearn: 0.6318195\ttest: 0.6318558\tbest: 0.6318558 (15)\ttotal: 5m 34s\tremaining: 29m 13s\n",
      "16:\tlearn: 0.6311225\ttest: 0.6311662\tbest: 0.6311662 (16)\ttotal: 5m 52s\tremaining: 28m 41s\n",
      "17:\tlearn: 0.6305049\ttest: 0.6305531\tbest: 0.6305531 (17)\ttotal: 6m 11s\tremaining: 28m 14s\n",
      "18:\tlearn: 0.6299395\ttest: 0.6299932\tbest: 0.6299932 (18)\ttotal: 6m 32s\tremaining: 27m 54s\n",
      "19:\tlearn: 0.6294383\ttest: 0.6294965\tbest: 0.6294965 (19)\ttotal: 6m 50s\tremaining: 27m 23s\n",
      "20:\tlearn: 0.6290048\ttest: 0.6290704\tbest: 0.6290704 (20)\ttotal: 7m 9s\tremaining: 26m 54s\n",
      "21:\tlearn: 0.6286063\ttest: 0.6286832\tbest: 0.6286832 (21)\ttotal: 7m 29s\tremaining: 26m 32s\n",
      "22:\tlearn: 0.6282484\ttest: 0.6283294\tbest: 0.6283294 (22)\ttotal: 7m 50s\tremaining: 26m 14s\n",
      "23:\tlearn: 0.6279220\ttest: 0.6280089\tbest: 0.6280089 (23)\ttotal: 8m 12s\tremaining: 25m 59s\n",
      "24:\tlearn: 0.6276260\ttest: 0.6277195\tbest: 0.6277195 (24)\ttotal: 8m 33s\tremaining: 25m 41s\n",
      "25:\tlearn: 0.6273264\ttest: 0.6274276\tbest: 0.6274276 (25)\ttotal: 8m 52s\tremaining: 25m 16s\n",
      "26:\tlearn: 0.6270878\ttest: 0.6271999\tbest: 0.6271999 (26)\ttotal: 9m 13s\tremaining: 24m 55s\n",
      "27:\tlearn: 0.6268515\ttest: 0.6269702\tbest: 0.6269702 (27)\ttotal: 9m 31s\tremaining: 24m 29s\n",
      "28:\tlearn: 0.6266026\ttest: 0.6267295\tbest: 0.6267295 (28)\ttotal: 9m 51s\tremaining: 24m 7s\n",
      "29:\tlearn: 0.6263916\ttest: 0.6265270\tbest: 0.6265270 (29)\ttotal: 10m 8s\tremaining: 23m 40s\n",
      "30:\tlearn: 0.6261812\ttest: 0.6263234\tbest: 0.6263234 (30)\ttotal: 10m 26s\tremaining: 23m 15s\n",
      "31:\tlearn: 0.6259594\ttest: 0.6261102\tbest: 0.6261102 (31)\ttotal: 10m 44s\tremaining: 22m 49s\n",
      "32:\tlearn: 0.6257538\ttest: 0.6259115\tbest: 0.6259115 (32)\ttotal: 11m 3s\tremaining: 22m 26s\n",
      "33:\tlearn: 0.6255621\ttest: 0.6257304\tbest: 0.6257304 (33)\ttotal: 11m 21s\tremaining: 22m 3s\n",
      "34:\tlearn: 0.6254001\ttest: 0.6255744\tbest: 0.6255744 (34)\ttotal: 11m 39s\tremaining: 21m 38s\n",
      "35:\tlearn: 0.6252067\ttest: 0.6253928\tbest: 0.6253928 (35)\ttotal: 11m 58s\tremaining: 21m 16s\n",
      "36:\tlearn: 0.6250475\ttest: 0.6252414\tbest: 0.6252414 (36)\ttotal: 12m 15s\tremaining: 20m 52s\n",
      "37:\tlearn: 0.6248965\ttest: 0.6250985\tbest: 0.6250985 (37)\ttotal: 12m 34s\tremaining: 20m 31s\n",
      "38:\tlearn: 0.6247139\ttest: 0.6249257\tbest: 0.6249257 (38)\ttotal: 12m 58s\tremaining: 20m 17s\n",
      "39:\tlearn: 0.6245577\ttest: 0.6247779\tbest: 0.6247779 (39)\ttotal: 13m 17s\tremaining: 19m 56s\n",
      "40:\tlearn: 0.6244323\ttest: 0.6246588\tbest: 0.6246588 (40)\ttotal: 13m 36s\tremaining: 19m 34s\n",
      "41:\tlearn: 0.6242824\ttest: 0.6245145\tbest: 0.6245145 (41)\ttotal: 13m 55s\tremaining: 19m 13s\n",
      "42:\tlearn: 0.6241850\ttest: 0.6244226\tbest: 0.6244226 (42)\ttotal: 14m 12s\tremaining: 18m 50s\n",
      "43:\tlearn: 0.6240434\ttest: 0.6242893\tbest: 0.6242893 (43)\ttotal: 14m 33s\tremaining: 18m 31s\n",
      "44:\tlearn: 0.6239286\ttest: 0.6241791\tbest: 0.6241791 (44)\ttotal: 14m 52s\tremaining: 18m 11s\n",
      "45:\tlearn: 0.6237973\ttest: 0.6240562\tbest: 0.6240562 (45)\ttotal: 15m 12s\tremaining: 17m 51s\n",
      "46:\tlearn: 0.6236716\ttest: 0.6239387\tbest: 0.6239387 (46)\ttotal: 15m 33s\tremaining: 17m 32s\n",
      "47:\tlearn: 0.6235267\ttest: 0.6237989\tbest: 0.6237989 (47)\ttotal: 15m 52s\tremaining: 17m 12s\n",
      "48:\tlearn: 0.6234041\ttest: 0.6236835\tbest: 0.6236835 (48)\ttotal: 16m 11s\tremaining: 16m 50s\n",
      "49:\tlearn: 0.6232990\ttest: 0.6235862\tbest: 0.6235862 (49)\ttotal: 16m 32s\tremaining: 16m 32s\n",
      "50:\tlearn: 0.6231866\ttest: 0.6234827\tbest: 0.6234827 (50)\ttotal: 16m 52s\tremaining: 16m 12s\n",
      "51:\tlearn: 0.6230431\ttest: 0.6233500\tbest: 0.6233500 (51)\ttotal: 17m 12s\tremaining: 15m 53s\n",
      "52:\tlearn: 0.6229207\ttest: 0.6232312\tbest: 0.6232312 (52)\ttotal: 17m 33s\tremaining: 15m 34s\n",
      "53:\tlearn: 0.6228219\ttest: 0.6231447\tbest: 0.6231447 (53)\ttotal: 17m 53s\tremaining: 15m 14s\n",
      "54:\tlearn: 0.6227336\ttest: 0.6230622\tbest: 0.6230622 (54)\ttotal: 18m 14s\tremaining: 14m 55s\n",
      "55:\tlearn: 0.6225993\ttest: 0.6229377\tbest: 0.6229377 (55)\ttotal: 18m 32s\tremaining: 14m 33s\n",
      "56:\tlearn: 0.6224650\ttest: 0.6228092\tbest: 0.6228092 (56)\ttotal: 18m 48s\tremaining: 14m 11s\n",
      "57:\tlearn: 0.6223638\ttest: 0.6227160\tbest: 0.6227160 (57)\ttotal: 19m 8s\tremaining: 13m 51s\n",
      "58:\tlearn: 0.6222747\ttest: 0.6226332\tbest: 0.6226332 (58)\ttotal: 19m 28s\tremaining: 13m 31s\n",
      "59:\tlearn: 0.6221690\ttest: 0.6225333\tbest: 0.6225333 (59)\ttotal: 19m 47s\tremaining: 13m 11s\n",
      "60:\tlearn: 0.6220860\ttest: 0.6224574\tbest: 0.6224574 (60)\ttotal: 20m 4s\tremaining: 12m 50s\n",
      "61:\tlearn: 0.6219800\ttest: 0.6223605\tbest: 0.6223605 (61)\ttotal: 20m 23s\tremaining: 12m 29s\n",
      "62:\tlearn: 0.6219021\ttest: 0.6222923\tbest: 0.6222923 (62)\ttotal: 20m 44s\tremaining: 12m 11s\n",
      "63:\tlearn: 0.6218147\ttest: 0.6222106\tbest: 0.6222106 (63)\ttotal: 21m 4s\tremaining: 11m 51s\n",
      "64:\tlearn: 0.6217022\ttest: 0.6221057\tbest: 0.6221057 (64)\ttotal: 21m 21s\tremaining: 11m 29s\n",
      "65:\tlearn: 0.6215990\ttest: 0.6220097\tbest: 0.6220097 (65)\ttotal: 21m 38s\tremaining: 11m 9s\n",
      "66:\tlearn: 0.6215068\ttest: 0.6219237\tbest: 0.6219237 (66)\ttotal: 21m 58s\tremaining: 10m 49s\n",
      "67:\tlearn: 0.6214181\ttest: 0.6218419\tbest: 0.6218419 (67)\ttotal: 22m 20s\tremaining: 10m 30s\n",
      "68:\tlearn: 0.6213345\ttest: 0.6217654\tbest: 0.6217654 (68)\ttotal: 22m 42s\tremaining: 10m 12s\n",
      "69:\tlearn: 0.6212681\ttest: 0.6217036\tbest: 0.6217036 (69)\ttotal: 23m\tremaining: 9m 51s\n",
      "70:\tlearn: 0.6211565\ttest: 0.6215972\tbest: 0.6215972 (70)\ttotal: 23m 21s\tremaining: 9m 32s\n",
      "71:\tlearn: 0.6210659\ttest: 0.6215109\tbest: 0.6215109 (71)\ttotal: 23m 40s\tremaining: 9m 12s\n",
      "72:\tlearn: 0.6210117\ttest: 0.6214632\tbest: 0.6214632 (72)\ttotal: 24m 2s\tremaining: 8m 53s\n",
      "73:\tlearn: 0.6209350\ttest: 0.6213905\tbest: 0.6213905 (73)\ttotal: 24m 22s\tremaining: 8m 33s\n",
      "74:\tlearn: 0.6208598\ttest: 0.6213213\tbest: 0.6213213 (74)\ttotal: 24m 44s\tremaining: 8m 14s\n",
      "75:\tlearn: 0.6207892\ttest: 0.6212552\tbest: 0.6212552 (75)\ttotal: 25m 5s\tremaining: 7m 55s\n",
      "76:\tlearn: 0.6207008\ttest: 0.6211765\tbest: 0.6211765 (76)\ttotal: 25m 24s\tremaining: 7m 35s\n",
      "77:\tlearn: 0.6206521\ttest: 0.6211332\tbest: 0.6211332 (77)\ttotal: 25m 42s\tremaining: 7m 15s\n",
      "78:\tlearn: 0.6205949\ttest: 0.6210837\tbest: 0.6210837 (78)\ttotal: 26m 2s\tremaining: 6m 55s\n",
      "79:\tlearn: 0.6204966\ttest: 0.6209904\tbest: 0.6209904 (79)\ttotal: 26m 21s\tremaining: 6m 35s\n",
      "80:\tlearn: 0.6203956\ttest: 0.6208988\tbest: 0.6208988 (80)\ttotal: 26m 41s\tremaining: 6m 15s\n",
      "81:\tlearn: 0.6203260\ttest: 0.6208360\tbest: 0.6208360 (81)\ttotal: 27m\tremaining: 5m 55s\n",
      "82:\tlearn: 0.6202483\ttest: 0.6207648\tbest: 0.6207648 (82)\ttotal: 27m 21s\tremaining: 5m 36s\n",
      "83:\tlearn: 0.6201850\ttest: 0.6207107\tbest: 0.6207107 (83)\ttotal: 27m 41s\tremaining: 5m 16s\n",
      "84:\tlearn: 0.6201062\ttest: 0.6206384\tbest: 0.6206384 (84)\ttotal: 28m 3s\tremaining: 4m 57s\n",
      "85:\tlearn: 0.6200504\ttest: 0.6205920\tbest: 0.6205920 (85)\ttotal: 28m 24s\tremaining: 4m 37s\n",
      "86:\tlearn: 0.6200013\ttest: 0.6205492\tbest: 0.6205492 (86)\ttotal: 28m 46s\tremaining: 4m 17s\n",
      "87:\tlearn: 0.6199012\ttest: 0.6204529\tbest: 0.6204529 (87)\ttotal: 29m 7s\tremaining: 3m 58s\n",
      "88:\tlearn: 0.6198144\ttest: 0.6203778\tbest: 0.6203778 (88)\ttotal: 29m 27s\tremaining: 3m 38s\n",
      "89:\tlearn: 0.6197093\ttest: 0.6202811\tbest: 0.6202811 (89)\ttotal: 29m 44s\tremaining: 3m 18s\n",
      "90:\tlearn: 0.6196159\ttest: 0.6201914\tbest: 0.6201914 (90)\ttotal: 30m 4s\tremaining: 2m 58s\n",
      "91:\tlearn: 0.6195572\ttest: 0.6201413\tbest: 0.6201413 (91)\ttotal: 30m 23s\tremaining: 2m 38s\n",
      "92:\tlearn: 0.6194962\ttest: 0.6200843\tbest: 0.6200843 (92)\ttotal: 30m 44s\tremaining: 2m 18s\n",
      "93:\tlearn: 0.6194466\ttest: 0.6200387\tbest: 0.6200387 (93)\ttotal: 31m 2s\tremaining: 1m 58s\n",
      "94:\tlearn: 0.6193826\ttest: 0.6199804\tbest: 0.6199804 (94)\ttotal: 31m 23s\tremaining: 1m 39s\n",
      "95:\tlearn: 0.6193027\ttest: 0.6199070\tbest: 0.6199070 (95)\ttotal: 31m 42s\tremaining: 1m 19s\n",
      "96:\tlearn: 0.6192243\ttest: 0.6198342\tbest: 0.6198342 (96)\ttotal: 32m 3s\tremaining: 59.5s\n",
      "97:\tlearn: 0.6191709\ttest: 0.6197875\tbest: 0.6197875 (97)\ttotal: 32m 26s\tremaining: 39.7s\n",
      "98:\tlearn: 0.6190942\ttest: 0.6197155\tbest: 0.6197155 (98)\ttotal: 32m 47s\tremaining: 19.9s\n",
      "99:\tlearn: 0.6190370\ttest: 0.6196630\tbest: 0.6196630 (99)\ttotal: 33m 6s\tremaining: 0us\n"
     ]
    },
    {
     "data": {
      "text/plain": "    iterations  test-CrossEntropy-mean  test-CrossEntropy-std  \\\n0            0                0.681683               0.000091   \n1            1                0.672409               0.000118   \n2            2                0.664953               0.000109   \n3            3                0.658912               0.000100   \n4            4                0.653997               0.000102   \n..         ...                     ...                    ...   \n95          95                0.619907               0.000358   \n96          96                0.619834               0.000331   \n97          97                0.619787               0.000326   \n98          98                0.619715               0.000322   \n99          99                0.619663               0.000304   \n\n    train-CrossEntropy-mean  train-CrossEntropy-std  test-AUC-mean  \\\n0                  0.681684                0.000093       0.688639   \n1                  0.672410                0.000135       0.690652   \n2                  0.664953                0.000103       0.691484   \n3                  0.658911                0.000082       0.692045   \n4                  0.653994                0.000087       0.692634   \n..                      ...                     ...            ...   \n95                 0.619303                0.000181       0.712625   \n96                 0.619224                0.000212       0.712726   \n97                 0.619171                0.000210       0.712789   \n98                 0.619094                0.000211       0.712892   \n99                 0.619037                0.000233       0.712967   \n\n    test-AUC-std  \n0       0.000791  \n1       0.000802  \n2       0.000623  \n3       0.000669  \n4       0.000633  \n..           ...  \n95      0.000612  \n96      0.000566  \n97      0.000563  \n98      0.000563  \n99      0.000530  \n\n[100 rows x 7 columns]",
      "text/html": "<div>\n<style scoped>\n    .dataframe tbody tr th:only-of-type {\n        vertical-align: middle;\n    }\n\n    .dataframe tbody tr th {\n        vertical-align: top;\n    }\n\n    .dataframe thead th {\n        text-align: right;\n    }\n</style>\n<table border=\"1\" class=\"dataframe\">\n  <thead>\n    <tr style=\"text-align: right;\">\n      <th></th>\n      <th>iterations</th>\n      <th>test-CrossEntropy-mean</th>\n      <th>test-CrossEntropy-std</th>\n      <th>train-CrossEntropy-mean</th>\n      <th>train-CrossEntropy-std</th>\n      <th>test-AUC-mean</th>\n      <th>test-AUC-std</th>\n    </tr>\n  </thead>\n  <tbody>\n    <tr>\n      <th>0</th>\n      <td>0</td>\n      <td>0.681683</td>\n      <td>0.000091</td>\n      <td>0.681684</td>\n      <td>0.000093</td>\n      <td>0.688639</td>\n      <td>0.000791</td>\n    </tr>\n    <tr>\n      <th>1</th>\n      <td>1</td>\n      <td>0.672409</td>\n      <td>0.000118</td>\n      <td>0.672410</td>\n      <td>0.000135</td>\n      <td>0.690652</td>\n      <td>0.000802</td>\n    </tr>\n    <tr>\n      <th>2</th>\n      <td>2</td>\n      <td>0.664953</td>\n      <td>0.000109</td>\n      <td>0.664953</td>\n      <td>0.000103</td>\n      <td>0.691484</td>\n      <td>0.000623</td>\n    </tr>\n    <tr>\n      <th>3</th>\n      <td>3</td>\n      <td>0.658912</td>\n      <td>0.000100</td>\n      <td>0.658911</td>\n      <td>0.000082</td>\n      <td>0.692045</td>\n      <td>0.000669</td>\n    </tr>\n    <tr>\n      <th>4</th>\n      <td>4</td>\n      <td>0.653997</td>\n      <td>0.000102</td>\n      <td>0.653994</td>\n      <td>0.000087</td>\n      <td>0.692634</td>\n      <td>0.000633</td>\n    </tr>\n    <tr>\n      <th>...</th>\n      <td>...</td>\n      <td>...</td>\n      <td>...</td>\n      <td>...</td>\n      <td>...</td>\n      <td>...</td>\n      <td>...</td>\n    </tr>\n    <tr>\n      <th>95</th>\n      <td>95</td>\n      <td>0.619907</td>\n      <td>0.000358</td>\n      <td>0.619303</td>\n      <td>0.000181</td>\n      <td>0.712625</td>\n      <td>0.000612</td>\n    </tr>\n    <tr>\n      <th>96</th>\n      <td>96</td>\n      <td>0.619834</td>\n      <td>0.000331</td>\n      <td>0.619224</td>\n      <td>0.000212</td>\n      <td>0.712726</td>\n      <td>0.000566</td>\n    </tr>\n    <tr>\n      <th>97</th>\n      <td>97</td>\n      <td>0.619787</td>\n      <td>0.000326</td>\n      <td>0.619171</td>\n      <td>0.000210</td>\n      <td>0.712789</td>\n      <td>0.000563</td>\n    </tr>\n    <tr>\n      <th>98</th>\n      <td>98</td>\n      <td>0.619715</td>\n      <td>0.000322</td>\n      <td>0.619094</td>\n      <td>0.000211</td>\n      <td>0.712892</td>\n      <td>0.000563</td>\n    </tr>\n    <tr>\n      <th>99</th>\n      <td>99</td>\n      <td>0.619663</td>\n      <td>0.000304</td>\n      <td>0.619037</td>\n      <td>0.000233</td>\n      <td>0.712967</td>\n      <td>0.000530</td>\n    </tr>\n  </tbody>\n</table>\n<p>100 rows × 7 columns</p>\n</div>"
     },
     "execution_count": 33,
     "metadata": {},
     "output_type": "execute_result"
    }
   ],
   "source": [
    "#best_params = {'depth': 10, 'learning_rate': 0.1, 'l2_leaf_reg': 1.0}\n",
    "best_params.update({\n",
    "    'loss_function': 'CrossEntropy',\n",
    "    'iterations': 100,\n",
    "    'custom_loss': 'AUC'\n",
    "})\n",
    "\n",
    "cv_data = cv(params = best_params, pool = pool, fold_count = 5)\n",
    "cv_data"
   ],
   "metadata": {
    "collapsed": false,
    "pycharm": {
     "name": "#%%\n"
    }
   }
  },
  {
   "cell_type": "markdown",
   "source": [
    "Итого AUC на 5-fold получился:"
   ],
   "metadata": {
    "collapsed": false,
    "pycharm": {
     "name": "#%% md\n"
    }
   }
  },
  {
   "cell_type": "code",
   "execution_count": 34,
   "outputs": [
    {
     "data": {
      "text/plain": "0.712966800021456"
     },
     "execution_count": 34,
     "metadata": {},
     "output_type": "execute_result"
    }
   ],
   "source": [
    "cv_data.iloc[-1]['test-AUC-mean']"
   ],
   "metadata": {
    "collapsed": false,
    "pycharm": {
     "name": "#%%\n"
    }
   }
  },
  {
   "cell_type": "markdown",
   "source": [
    "## Построим эмбенддинги"
   ],
   "metadata": {
    "collapsed": false,
    "pycharm": {
     "name": "#%% md\n"
    }
   }
  },
  {
   "cell_type": "code",
   "execution_count": 95,
   "outputs": [],
   "source": [
    "import multiprocessing\n",
    "from gensim.models import Word2Vec"
   ],
   "metadata": {
    "collapsed": false,
    "pycharm": {
     "name": "#%%\n"
    }
   }
  },
  {
   "cell_type": "code",
   "execution_count": 96,
   "outputs": [
    {
     "data": {
      "text/plain": "                                              song_id  song_length genre_ids  \\\n0        CXoTN1eb7AI+DntdU1vbcwGRV4SCIDxZu+YD8JP8r4E=       247640       465   \n1        o0kFgae9QtnYgRkVPqLJwa05zIhRlUjfF7O1tDw0ZDU=       197328       444   \n2        DwVvVurfpuz+XPuFvucclVQEyPqcpUkHR0ne1RQzPs0=       231781       465   \n3        dKMBWoZyScdxSkihKG+Vf47nc18N9q4m58+b4e7dSSE=       273554       465   \n4        W3bqWd3T+VeHFzHAUfARgW9AvVRaF4N5Yzm4Mr6Eo/o=       140329       726   \n...                                               ...          ...       ...   \n2296315  lg6rn7eV/ZNg0+P+x77kHUL7GDMfoL4eMtXxncseLNA=        20192       958   \n2296316  nXi1lrSJe+gLoTTNky7If0mNPrIyCQCLwagwR6XopGU=       273391       465   \n2296317  9KxSvIjbJyJzfEVWnkMbgR6dyn6d54ot0N5FKyKqii8=       445172      1609   \n2296318  UO8Y2MR2sjOn2q/Tp8/lzZTGKmLEvwZ20oWanG4XnYc=       172669       465   \n2296319  V/9qPSUOGT0FeIGBhDIZRRz5Y5yyjdXC2Z/+bJExo5s=       270466       829   \n\n               artist_name                            composer     lyricist  \\\n0         張信哲 (Jeff Chang)                                  董貞          何啟弘   \n1                BLACKPINK  TEDDY|  FUTURE BOUNCE|  Bekuh BOOM        TEDDY   \n2             SUPER JUNIOR                                 NaN          NaN   \n3                    S.H.E                                 湯小康          徐世珍   \n4                     貴族精選                         Traditional  Traditional   \n...                    ...                                 ...          ...   \n2296315  Catherine Collard         Robert Schumann (1810-1856)          NaN   \n2296316  紀文惠 (Justine Chi)                                 NaN          NaN   \n2296317    Various Artists                                 NaN          NaN   \n2296318  Peter Paul & Mary                                 NaN          NaN   \n2296319      Kim Robertson                                 NaN          NaN   \n\n         language                                              name  \\\n0             3.0                                                焚情   \n1            31.0                                 PLAYING WITH FIRE   \n2            31.0                                      SORRY| SORRY   \n3             3.0                                             愛我的資格   \n4            52.0                            Mary Had a Little Lamb   \n...           ...                                               ...   \n2296315      -1.0       Schumann: Papillons| Op. 2: II. Prestissimo   \n2296316       3.0                                               怎麼啦   \n2296317      52.0                                        Still Here   \n2296318      52.0                                   If I Had My Way   \n2296319      52.0  The Water Is Wide/ Shall We Gather at the River?   \n\n                 isrc  \n0        TWB531410010  \n1                 NaN  \n2                 NaN  \n3        TWC950206108  \n4                 NaN  \n...               ...  \n2296315  FRZ207810303  \n2296316  TWR631100002  \n2296317  DEH741502074  \n2296318  USWB19904306  \n2296319  USASQ0914004  \n\n[2296320 rows x 9 columns]",
      "text/html": "<div>\n<style scoped>\n    .dataframe tbody tr th:only-of-type {\n        vertical-align: middle;\n    }\n\n    .dataframe tbody tr th {\n        vertical-align: top;\n    }\n\n    .dataframe thead th {\n        text-align: right;\n    }\n</style>\n<table border=\"1\" class=\"dataframe\">\n  <thead>\n    <tr style=\"text-align: right;\">\n      <th></th>\n      <th>song_id</th>\n      <th>song_length</th>\n      <th>genre_ids</th>\n      <th>artist_name</th>\n      <th>composer</th>\n      <th>lyricist</th>\n      <th>language</th>\n      <th>name</th>\n      <th>isrc</th>\n    </tr>\n  </thead>\n  <tbody>\n    <tr>\n      <th>0</th>\n      <td>CXoTN1eb7AI+DntdU1vbcwGRV4SCIDxZu+YD8JP8r4E=</td>\n      <td>247640</td>\n      <td>465</td>\n      <td>張信哲 (Jeff Chang)</td>\n      <td>董貞</td>\n      <td>何啟弘</td>\n      <td>3.0</td>\n      <td>焚情</td>\n      <td>TWB531410010</td>\n    </tr>\n    <tr>\n      <th>1</th>\n      <td>o0kFgae9QtnYgRkVPqLJwa05zIhRlUjfF7O1tDw0ZDU=</td>\n      <td>197328</td>\n      <td>444</td>\n      <td>BLACKPINK</td>\n      <td>TEDDY|  FUTURE BOUNCE|  Bekuh BOOM</td>\n      <td>TEDDY</td>\n      <td>31.0</td>\n      <td>PLAYING WITH FIRE</td>\n      <td>NaN</td>\n    </tr>\n    <tr>\n      <th>2</th>\n      <td>DwVvVurfpuz+XPuFvucclVQEyPqcpUkHR0ne1RQzPs0=</td>\n      <td>231781</td>\n      <td>465</td>\n      <td>SUPER JUNIOR</td>\n      <td>NaN</td>\n      <td>NaN</td>\n      <td>31.0</td>\n      <td>SORRY| SORRY</td>\n      <td>NaN</td>\n    </tr>\n    <tr>\n      <th>3</th>\n      <td>dKMBWoZyScdxSkihKG+Vf47nc18N9q4m58+b4e7dSSE=</td>\n      <td>273554</td>\n      <td>465</td>\n      <td>S.H.E</td>\n      <td>湯小康</td>\n      <td>徐世珍</td>\n      <td>3.0</td>\n      <td>愛我的資格</td>\n      <td>TWC950206108</td>\n    </tr>\n    <tr>\n      <th>4</th>\n      <td>W3bqWd3T+VeHFzHAUfARgW9AvVRaF4N5Yzm4Mr6Eo/o=</td>\n      <td>140329</td>\n      <td>726</td>\n      <td>貴族精選</td>\n      <td>Traditional</td>\n      <td>Traditional</td>\n      <td>52.0</td>\n      <td>Mary Had a Little Lamb</td>\n      <td>NaN</td>\n    </tr>\n    <tr>\n      <th>...</th>\n      <td>...</td>\n      <td>...</td>\n      <td>...</td>\n      <td>...</td>\n      <td>...</td>\n      <td>...</td>\n      <td>...</td>\n      <td>...</td>\n      <td>...</td>\n    </tr>\n    <tr>\n      <th>2296315</th>\n      <td>lg6rn7eV/ZNg0+P+x77kHUL7GDMfoL4eMtXxncseLNA=</td>\n      <td>20192</td>\n      <td>958</td>\n      <td>Catherine Collard</td>\n      <td>Robert Schumann (1810-1856)</td>\n      <td>NaN</td>\n      <td>-1.0</td>\n      <td>Schumann: Papillons| Op. 2: II. Prestissimo</td>\n      <td>FRZ207810303</td>\n    </tr>\n    <tr>\n      <th>2296316</th>\n      <td>nXi1lrSJe+gLoTTNky7If0mNPrIyCQCLwagwR6XopGU=</td>\n      <td>273391</td>\n      <td>465</td>\n      <td>紀文惠 (Justine Chi)</td>\n      <td>NaN</td>\n      <td>NaN</td>\n      <td>3.0</td>\n      <td>怎麼啦</td>\n      <td>TWR631100002</td>\n    </tr>\n    <tr>\n      <th>2296317</th>\n      <td>9KxSvIjbJyJzfEVWnkMbgR6dyn6d54ot0N5FKyKqii8=</td>\n      <td>445172</td>\n      <td>1609</td>\n      <td>Various Artists</td>\n      <td>NaN</td>\n      <td>NaN</td>\n      <td>52.0</td>\n      <td>Still Here</td>\n      <td>DEH741502074</td>\n    </tr>\n    <tr>\n      <th>2296318</th>\n      <td>UO8Y2MR2sjOn2q/Tp8/lzZTGKmLEvwZ20oWanG4XnYc=</td>\n      <td>172669</td>\n      <td>465</td>\n      <td>Peter Paul &amp; Mary</td>\n      <td>NaN</td>\n      <td>NaN</td>\n      <td>52.0</td>\n      <td>If I Had My Way</td>\n      <td>USWB19904306</td>\n    </tr>\n    <tr>\n      <th>2296319</th>\n      <td>V/9qPSUOGT0FeIGBhDIZRRz5Y5yyjdXC2Z/+bJExo5s=</td>\n      <td>270466</td>\n      <td>829</td>\n      <td>Kim Robertson</td>\n      <td>NaN</td>\n      <td>NaN</td>\n      <td>52.0</td>\n      <td>The Water Is Wide/ Shall We Gather at the River?</td>\n      <td>USASQ0914004</td>\n    </tr>\n  </tbody>\n</table>\n<p>2296320 rows × 9 columns</p>\n</div>"
     },
     "execution_count": 96,
     "metadata": {},
     "output_type": "execute_result"
    }
   ],
   "source": [
    "emb_train = pd.read_csv(data_path + 'train.csv')\n",
    "emb_songs = pd.read_csv(data_path + 'songs.csv')\n",
    "emb_songs_extra = pd.read_csv(data_path + 'song_extra_info.csv')\n",
    "\n",
    "emb_songs = emb_songs.merge(emb_songs_extra, on='song_id', how='left')\n",
    "emb_songs"
   ],
   "metadata": {
    "collapsed": false,
    "pycharm": {
     "name": "#%%\n"
    }
   }
  },
  {
   "cell_type": "markdown",
   "source": [
    "Заведем словарь, в котором для каждой песни из emb_songs, по ее id будет исполнитель_название,\n",
    "на котором мы собственно и будем строить эмбенддинги"
   ],
   "metadata": {
    "collapsed": false
   }
  },
  {
   "cell_type": "code",
   "execution_count": 97,
   "outputs": [],
   "source": [
    "songid2name = {}\n",
    "for _, row in emb_songs.iterrows():\n",
    "    song_name = row['name'] if str(row['name']) != \"nan\" else \"\"\n",
    "    songid2name[row['song_id']] = row['artist_name'] + '_' + song_name"
   ],
   "metadata": {
    "collapsed": false,
    "pycharm": {
     "name": "#%%\n"
    }
   }
  },
  {
   "cell_type": "markdown",
   "source": [
    "Заведем список history, в котором будут списки, состоящие из песен(исполнитель_название)\n",
    "прослушенных конкретным пользователем (с target=1)"
   ],
   "metadata": {
    "collapsed": false,
    "pycharm": {
     "name": "#%% md\n"
    }
   }
  },
  {
   "cell_type": "code",
   "execution_count": 98,
   "outputs": [],
   "source": [
    "user2songs = {}\n",
    "for _, row in emb_train[emb_train.target == 1].iterrows():\n",
    "    user, song_id = row['msno'], row['song_id']\n",
    "    if row['song_id'] in songid2name:\n",
    "        if user not in user2songs:\n",
    "            user2songs[user] = []\n",
    "        user2songs[user].append(songid2name[song_id])\n",
    "\n",
    "history = list(user2songs.values())"
   ],
   "metadata": {
    "collapsed": false,
    "pycharm": {
     "name": "#%%\n"
    }
   }
  },
  {
   "cell_type": "code",
   "execution_count": 99,
   "outputs": [],
   "source": [
    "w2v_model = Word2Vec(min_count=10,\n",
    "                     sg=1,\n",
    "                     negative=10,\n",
    "                     workers=multiprocessing.cpu_count())"
   ],
   "metadata": {
    "collapsed": false,
    "pycharm": {
     "name": "#%%\n"
    }
   }
  },
  {
   "cell_type": "code",
   "execution_count": 100,
   "outputs": [],
   "source": [
    "w2v_model.build_vocab(history)"
   ],
   "metadata": {
    "collapsed": false,
    "pycharm": {
     "name": "#%%\n"
    }
   }
  },
  {
   "cell_type": "code",
   "execution_count": 101,
   "outputs": [
    {
     "data": {
      "text/plain": "(66880437, 74292200)"
     },
     "execution_count": 101,
     "metadata": {},
     "output_type": "execute_result"
    }
   ],
   "source": [
    "w2v_model.train(history,total_examples=w2v_model.corpus_count, epochs=20)"
   ],
   "metadata": {
    "collapsed": false,
    "pycharm": {
     "name": "#%%\n"
    }
   }
  },
  {
   "cell_type": "code",
   "execution_count": 102,
   "outputs": [],
   "source": [
    "w2v_model.init_sims(replace=True)"
   ],
   "metadata": {
    "collapsed": false,
    "pycharm": {
     "name": "#%%\n"
    }
   }
  },
  {
   "cell_type": "markdown",
   "source": [
    "Возьмем в качестве примера исполнителя BLACKPINK, песню PLAYING WITH FIRE\n",
    "\n",
    "wiki: BLACKPINK - южнокорейская гёрл-группа"
   ],
   "metadata": {
    "collapsed": false
   }
  },
  {
   "cell_type": "code",
   "execution_count": 103,
   "outputs": [
    {
     "data": {
      "text/plain": "[('BANGTAN BOYS_Blood Sweat & Tears', 0.8823922276496887),\n ('Taeyeon_11:11', 0.8807204365730286),\n ('BLACKPINK_STAY', 0.8522137403488159),\n ('TWICE_CHEER UP', 0.8506143093109131),\n ('TWICE_TT', 0.8261063098907471),\n ('BLACKPINK_WHISTLE', 0.8081278204917908),\n ('BLACKPINK_BOOMBAYAH', 0.8022922277450562),\n ('BIGBANG TAEYANG_眼| 鼻| 口 (Eyes| Nose| Lips)', 0.7985336780548096),\n ('TWICE_Like OOH-AHH', 0.7296574115753174),\n ('Various Artists_ALWAYS - t Yoonmirae', 0.7091964483261108)]"
     },
     "execution_count": 103,
     "metadata": {},
     "output_type": "execute_result"
    }
   ],
   "source": [
    "w2v_model.wv.most_similar('BLACKPINK_PLAYING WITH FIRE')"
   ],
   "metadata": {
    "collapsed": false,
    "pycharm": {
     "name": "#%%\n"
    }
   }
  },
  {
   "cell_type": "markdown",
   "source": [
    "Получили очень качественные симилиары, ниже информация по исполнителям из рекомендаций\n",
    "\n",
    "wiki: BANGTAN BOYS - южнокорейский бойбенд\n",
    "\n",
    "wiki: TWICE - южнокорейская гёрл-группа\n",
    "\n",
    "wiki: Taeyeon - южнокорейская певица\n",
    "\n",
    "wiki: BIGBANG TAEYANG - южнокорейский певец\n",
    "\n",
    "wiki: I.O.I – южнокорейская временная гёрл-группа"
   ],
   "metadata": {
    "collapsed": false,
    "pycharm": {
     "name": "#%% md\n"
    }
   }
  },
  {
   "cell_type": "markdown",
   "source": [
    "### Используем полученные результаты в качестве рекомендера"
   ],
   "metadata": {
    "collapsed": false,
    "pycharm": {
     "name": "#%% md\n"
    }
   }
  },
  {
   "cell_type": "code",
   "execution_count": 104,
   "outputs": [
    {
     "data": {
      "text/plain": "100"
     },
     "execution_count": 104,
     "metadata": {},
     "output_type": "execute_result"
    }
   ],
   "source": [
    "# size=100 как значение по умолчанию в Word2Vec, тк мы его не задали\n",
    "size = len(w2v_model.wv.word_vec('BLACKPINK_PLAYING WITH FIRE'))\n",
    "size"
   ],
   "metadata": {
    "collapsed": false,
    "pycharm": {
     "name": "#%%\n"
    }
   }
  },
  {
   "cell_type": "markdown",
   "source": [
    "Заведем словарь user2emb, в котором по юзеру будет усредненный вектор по всем песням этого юзера"
   ],
   "metadata": {
    "collapsed": false
   }
  },
  {
   "cell_type": "code",
   "execution_count": 105,
   "outputs": [],
   "source": [
    "user2emb = {}\n",
    "\n",
    "default_vec = np.zeros(size)\n",
    "get_song_vec = lambda song: w2v_model.wv.word_vec(song) if song in w2v_model.wv else default_vec\n",
    "\n",
    "for user in user2songs:\n",
    "    user2emb[user] = np.mean([get_song_vec(song) for song in user2songs[user]], axis=0)"
   ],
   "metadata": {
    "collapsed": false,
    "pycharm": {
     "name": "#%%\n"
    }
   }
  },
  {
   "cell_type": "code",
   "execution_count": 106,
   "outputs": [],
   "source": [
    "get_user_emb = lambda user: user2emb[user] if user in user2emb else default_vec\n",
    "get_song_emb = lambda song_id: w2v_model.wv.word_vec(songid2name[song_id]) \\\n",
    "    if song_id in songid2name and songid2name[song_id] in w2v_model.wv else default_vec"
   ],
   "metadata": {
    "collapsed": false,
    "pycharm": {
     "name": "#%%\n"
    }
   }
  },
  {
   "cell_type": "code",
   "execution_count": 107,
   "outputs": [],
   "source": [
    "user_emb = emb_train.msno.apply(get_user_emb)\n",
    "song_emb = emb_train.song_id.apply(get_song_emb)"
   ],
   "metadata": {
    "collapsed": false,
    "pycharm": {
     "name": "#%%\n"
    }
   }
  },
  {
   "cell_type": "code",
   "execution_count": 108,
   "outputs": [
    {
     "data": {
      "text/plain": "array([0.00161082, 0.        , 0.        , ..., 0.0025668 , 0.        ,\n       0.        ])"
     },
     "execution_count": 108,
     "metadata": {},
     "output_type": "execute_result"
    }
   ],
   "source": [
    "score = (np.vstack(user_emb) * np.vstack(song_emb)).mean(axis=1)\n",
    "score"
   ],
   "metadata": {
    "collapsed": false,
    "pycharm": {
     "name": "#%%\n"
    }
   }
  },
  {
   "cell_type": "code",
   "execution_count": 109,
   "outputs": [
    {
     "data": {
      "text/plain": "0.6406388079899459"
     },
     "execution_count": 109,
     "metadata": {},
     "output_type": "execute_result"
    }
   ],
   "source": [
    "roc_auc_score(emb_train[\"target\"], score)"
   ],
   "metadata": {
    "collapsed": false,
    "pycharm": {
     "name": "#%%\n"
    }
   }
  },
  {
   "cell_type": "markdown",
   "source": [
    "### Стек с GBDT"
   ],
   "metadata": {
    "collapsed": false,
    "pycharm": {
     "name": "#%% md\n"
    }
   }
  },
  {
   "cell_type": "code",
   "execution_count": 110,
   "outputs": [
    {
     "name": "stdout",
     "output_type": "stream",
     "text": [
      "0:\tlearn: 0.6772565\ttest: 0.6772634\tbest: 0.6772634 (0)\ttotal: 29.7s\tremaining: 48m 59s\n",
      "1:\tlearn: 0.6643301\ttest: 0.6643368\tbest: 0.6643368 (1)\ttotal: 56.4s\tremaining: 46m 5s\n",
      "2:\tlearn: 0.6539654\ttest: 0.6539722\tbest: 0.6539722 (2)\ttotal: 1m 13s\tremaining: 39m 26s\n",
      "3:\tlearn: 0.6455823\ttest: 0.6455956\tbest: 0.6455956 (3)\ttotal: 1m 34s\tremaining: 37m 43s\n",
      "4:\tlearn: 0.6386251\ttest: 0.6386421\tbest: 0.6386421 (4)\ttotal: 1m 49s\tremaining: 34m 48s\n",
      "5:\tlearn: 0.6330089\ttest: 0.6330281\tbest: 0.6330281 (5)\ttotal: 2m 12s\tremaining: 34m 39s\n",
      "6:\tlearn: 0.6281209\ttest: 0.6281453\tbest: 0.6281453 (6)\ttotal: 2m 30s\tremaining: 33m 17s\n",
      "7:\tlearn: 0.6240778\ttest: 0.6241085\tbest: 0.6241085 (7)\ttotal: 2m 46s\tremaining: 31m 59s\n",
      "8:\tlearn: 0.6207393\ttest: 0.6207710\tbest: 0.6207710 (8)\ttotal: 3m 4s\tremaining: 31m 1s\n",
      "9:\tlearn: 0.6179306\ttest: 0.6179636\tbest: 0.6179636 (9)\ttotal: 3m 26s\tremaining: 30m 59s\n",
      "10:\tlearn: 0.6153831\ttest: 0.6154163\tbest: 0.6154163 (10)\ttotal: 3m 48s\tremaining: 30m 47s\n",
      "11:\tlearn: 0.6132253\ttest: 0.6132579\tbest: 0.6132579 (11)\ttotal: 4m 7s\tremaining: 30m 14s\n",
      "12:\tlearn: 0.6114521\ttest: 0.6114870\tbest: 0.6114870 (12)\ttotal: 4m 31s\tremaining: 30m 18s\n",
      "13:\tlearn: 0.6099286\ttest: 0.6099671\tbest: 0.6099671 (13)\ttotal: 4m 49s\tremaining: 29m 39s\n",
      "14:\tlearn: 0.6086447\ttest: 0.6086876\tbest: 0.6086876 (14)\ttotal: 5m 8s\tremaining: 29m 8s\n",
      "15:\tlearn: 0.6074855\ttest: 0.6075360\tbest: 0.6075360 (15)\ttotal: 5m 27s\tremaining: 28m 40s\n",
      "16:\tlearn: 0.6064717\ttest: 0.6065285\tbest: 0.6065285 (16)\ttotal: 5m 51s\tremaining: 28m 36s\n",
      "17:\tlearn: 0.6055657\ttest: 0.6056257\tbest: 0.6056257 (17)\ttotal: 6m 14s\tremaining: 28m 23s\n",
      "18:\tlearn: 0.6047566\ttest: 0.6048243\tbest: 0.6048243 (18)\ttotal: 6m 34s\tremaining: 28m 2s\n",
      "19:\tlearn: 0.6040513\ttest: 0.6041247\tbest: 0.6041247 (19)\ttotal: 6m 58s\tremaining: 27m 53s\n",
      "20:\tlearn: 0.6033990\ttest: 0.6034744\tbest: 0.6034744 (20)\ttotal: 7m 19s\tremaining: 27m 34s\n",
      "21:\tlearn: 0.6028079\ttest: 0.6028912\tbest: 0.6028912 (21)\ttotal: 7m 43s\tremaining: 27m 23s\n",
      "22:\tlearn: 0.6022729\ttest: 0.6023603\tbest: 0.6023603 (22)\ttotal: 8m 3s\tremaining: 26m 58s\n",
      "23:\tlearn: 0.6017824\ttest: 0.6018728\tbest: 0.6018728 (23)\ttotal: 8m 23s\tremaining: 26m 33s\n",
      "24:\tlearn: 0.6013015\ttest: 0.6014023\tbest: 0.6014023 (24)\ttotal: 8m 41s\tremaining: 26m 3s\n",
      "25:\tlearn: 0.6008795\ttest: 0.6009857\tbest: 0.6009857 (25)\ttotal: 8m 59s\tremaining: 25m 36s\n",
      "26:\tlearn: 0.6004946\ttest: 0.6006085\tbest: 0.6006085 (26)\ttotal: 9m 18s\tremaining: 25m 10s\n",
      "27:\tlearn: 0.6001260\ttest: 0.6002454\tbest: 0.6002454 (27)\ttotal: 9m 34s\tremaining: 24m 37s\n",
      "28:\tlearn: 0.5997663\ttest: 0.5998940\tbest: 0.5998940 (28)\ttotal: 9m 54s\tremaining: 24m 15s\n",
      "29:\tlearn: 0.5994119\ttest: 0.5995492\tbest: 0.5995492 (29)\ttotal: 10m 11s\tremaining: 23m 47s\n",
      "30:\tlearn: 0.5990684\ttest: 0.5992096\tbest: 0.5992096 (30)\ttotal: 10m 30s\tremaining: 23m 23s\n",
      "31:\tlearn: 0.5987671\ttest: 0.5989092\tbest: 0.5989092 (31)\ttotal: 10m 45s\tremaining: 22m 52s\n",
      "32:\tlearn: 0.5985037\ttest: 0.5986493\tbest: 0.5986493 (32)\ttotal: 11m 2s\tremaining: 22m 24s\n",
      "33:\tlearn: 0.5982200\ttest: 0.5983762\tbest: 0.5983762 (33)\ttotal: 11m 19s\tremaining: 21m 59s\n",
      "34:\tlearn: 0.5979654\ttest: 0.5981293\tbest: 0.5981293 (34)\ttotal: 11m 37s\tremaining: 21m 35s\n",
      "35:\tlearn: 0.5976695\ttest: 0.5978431\tbest: 0.5978431 (35)\ttotal: 11m 55s\tremaining: 21m 11s\n",
      "36:\tlearn: 0.5974312\ttest: 0.5976090\tbest: 0.5976090 (36)\ttotal: 12m 12s\tremaining: 20m 46s\n",
      "37:\tlearn: 0.5971469\ttest: 0.5973368\tbest: 0.5973368 (37)\ttotal: 12m 35s\tremaining: 20m 32s\n",
      "38:\tlearn: 0.5969013\ttest: 0.5971021\tbest: 0.5971021 (38)\ttotal: 12m 56s\tremaining: 20m 14s\n",
      "39:\tlearn: 0.5966744\ttest: 0.5968798\tbest: 0.5968798 (39)\ttotal: 13m 17s\tremaining: 19m 55s\n",
      "40:\tlearn: 0.5964379\ttest: 0.5966500\tbest: 0.5966500 (40)\ttotal: 13m 36s\tremaining: 19m 35s\n",
      "41:\tlearn: 0.5962496\ttest: 0.5964677\tbest: 0.5964677 (41)\ttotal: 14m\tremaining: 19m 20s\n",
      "42:\tlearn: 0.5960491\ttest: 0.5962755\tbest: 0.5962755 (42)\ttotal: 14m 23s\tremaining: 19m 4s\n",
      "43:\tlearn: 0.5958362\ttest: 0.5960710\tbest: 0.5960710 (43)\ttotal: 14m 42s\tremaining: 18m 43s\n",
      "44:\tlearn: 0.5956579\ttest: 0.5959027\tbest: 0.5959027 (44)\ttotal: 15m 10s\tremaining: 18m 32s\n",
      "45:\tlearn: 0.5954798\ttest: 0.5957317\tbest: 0.5957317 (45)\ttotal: 15m 34s\tremaining: 18m 16s\n",
      "46:\tlearn: 0.5952960\ttest: 0.5955570\tbest: 0.5955570 (46)\ttotal: 15m 50s\tremaining: 17m 52s\n",
      "47:\tlearn: 0.5951151\ttest: 0.5953839\tbest: 0.5953839 (47)\ttotal: 16m 10s\tremaining: 17m 31s\n",
      "48:\tlearn: 0.5949458\ttest: 0.5952213\tbest: 0.5952213 (48)\ttotal: 16m 31s\tremaining: 17m 12s\n",
      "49:\tlearn: 0.5947649\ttest: 0.5950437\tbest: 0.5950437 (49)\ttotal: 16m 54s\tremaining: 16m 54s\n",
      "50:\tlearn: 0.5945982\ttest: 0.5948869\tbest: 0.5948869 (50)\ttotal: 17m 13s\tremaining: 16m 33s\n",
      "51:\tlearn: 0.5944398\ttest: 0.5947373\tbest: 0.5947373 (51)\ttotal: 17m 30s\tremaining: 16m 9s\n",
      "52:\tlearn: 0.5942953\ttest: 0.5946023\tbest: 0.5946023 (52)\ttotal: 17m 46s\tremaining: 15m 46s\n",
      "53:\tlearn: 0.5941299\ttest: 0.5944435\tbest: 0.5944435 (53)\ttotal: 18m 10s\tremaining: 15m 28s\n",
      "54:\tlearn: 0.5939872\ttest: 0.5943054\tbest: 0.5943054 (54)\ttotal: 18m 29s\tremaining: 15m 7s\n",
      "55:\tlearn: 0.5938422\ttest: 0.5941699\tbest: 0.5941699 (55)\ttotal: 18m 54s\tremaining: 14m 51s\n",
      "56:\tlearn: 0.5936456\ttest: 0.5939825\tbest: 0.5939825 (56)\ttotal: 19m 17s\tremaining: 14m 33s\n",
      "57:\tlearn: 0.5934798\ttest: 0.5938232\tbest: 0.5938232 (57)\ttotal: 19m 40s\tremaining: 14m 15s\n",
      "58:\tlearn: 0.5933314\ttest: 0.5936800\tbest: 0.5936800 (58)\ttotal: 20m 2s\tremaining: 13m 55s\n",
      "59:\tlearn: 0.5931813\ttest: 0.5935355\tbest: 0.5935355 (59)\ttotal: 20m 25s\tremaining: 13m 37s\n",
      "60:\tlearn: 0.5930345\ttest: 0.5933960\tbest: 0.5933960 (60)\ttotal: 20m 44s\tremaining: 13m 15s\n",
      "61:\tlearn: 0.5928925\ttest: 0.5932645\tbest: 0.5932645 (61)\ttotal: 21m 2s\tremaining: 12m 53s\n",
      "62:\tlearn: 0.5927664\ttest: 0.5931439\tbest: 0.5931439 (62)\ttotal: 21m 22s\tremaining: 12m 33s\n",
      "63:\tlearn: 0.5926393\ttest: 0.5930246\tbest: 0.5930246 (63)\ttotal: 21m 38s\tremaining: 12m 10s\n",
      "64:\tlearn: 0.5925315\ttest: 0.5929225\tbest: 0.5929225 (64)\ttotal: 21m 55s\tremaining: 11m 48s\n",
      "65:\tlearn: 0.5923607\ttest: 0.5927590\tbest: 0.5927590 (65)\ttotal: 22m 13s\tremaining: 11m 27s\n",
      "66:\tlearn: 0.5922467\ttest: 0.5926536\tbest: 0.5926536 (66)\ttotal: 22m 36s\tremaining: 11m 8s\n",
      "67:\tlearn: 0.5921312\ttest: 0.5925441\tbest: 0.5925441 (67)\ttotal: 22m 59s\tremaining: 10m 49s\n",
      "68:\tlearn: 0.5920126\ttest: 0.5924332\tbest: 0.5924332 (68)\ttotal: 23m 22s\tremaining: 10m 29s\n",
      "69:\tlearn: 0.5918789\ttest: 0.5923075\tbest: 0.5923075 (69)\ttotal: 23m 40s\tremaining: 10m 8s\n",
      "70:\tlearn: 0.5917294\ttest: 0.5921702\tbest: 0.5921702 (70)\ttotal: 24m 5s\tremaining: 9m 50s\n",
      "71:\tlearn: 0.5916113\ttest: 0.5920598\tbest: 0.5920598 (71)\ttotal: 24m 29s\tremaining: 9m 31s\n",
      "72:\tlearn: 0.5914929\ttest: 0.5919530\tbest: 0.5919530 (72)\ttotal: 24m 53s\tremaining: 9m 12s\n",
      "73:\tlearn: 0.5913858\ttest: 0.5918556\tbest: 0.5918556 (73)\ttotal: 25m 15s\tremaining: 8m 52s\n",
      "74:\tlearn: 0.5912748\ttest: 0.5917496\tbest: 0.5917496 (74)\ttotal: 25m 37s\tremaining: 8m 32s\n",
      "75:\tlearn: 0.5911506\ttest: 0.5916367\tbest: 0.5916367 (75)\ttotal: 26m 3s\tremaining: 8m 13s\n",
      "76:\tlearn: 0.5910404\ttest: 0.5915368\tbest: 0.5915368 (76)\ttotal: 26m 25s\tremaining: 7m 53s\n",
      "77:\tlearn: 0.5909301\ttest: 0.5914339\tbest: 0.5914339 (77)\ttotal: 26m 42s\tremaining: 7m 31s\n",
      "78:\tlearn: 0.5908258\ttest: 0.5913347\tbest: 0.5913347 (78)\ttotal: 27m 2s\tremaining: 7m 11s\n",
      "79:\tlearn: 0.5907123\ttest: 0.5912275\tbest: 0.5912275 (79)\ttotal: 27m 28s\tremaining: 6m 52s\n",
      "80:\tlearn: 0.5906236\ttest: 0.5911467\tbest: 0.5911467 (80)\ttotal: 27m 50s\tremaining: 6m 31s\n",
      "81:\tlearn: 0.5905376\ttest: 0.5910654\tbest: 0.5910654 (81)\ttotal: 28m 11s\tremaining: 6m 11s\n",
      "82:\tlearn: 0.5904271\ttest: 0.5909627\tbest: 0.5909627 (82)\ttotal: 28m 32s\tremaining: 5m 50s\n",
      "83:\tlearn: 0.5903260\ttest: 0.5908677\tbest: 0.5908677 (83)\ttotal: 28m 50s\tremaining: 5m 29s\n",
      "84:\tlearn: 0.5902518\ttest: 0.5907983\tbest: 0.5907983 (84)\ttotal: 29m 8s\tremaining: 5m 8s\n",
      "85:\tlearn: 0.5901321\ttest: 0.5906843\tbest: 0.5906843 (85)\ttotal: 29m 30s\tremaining: 4m 48s\n",
      "86:\tlearn: 0.5900487\ttest: 0.5906054\tbest: 0.5906054 (86)\ttotal: 29m 50s\tremaining: 4m 27s\n",
      "87:\tlearn: 0.5899464\ttest: 0.5905071\tbest: 0.5905071 (87)\ttotal: 30m 8s\tremaining: 4m 6s\n",
      "88:\tlearn: 0.5898709\ttest: 0.5904385\tbest: 0.5904385 (88)\ttotal: 30m 26s\tremaining: 3m 45s\n",
      "89:\tlearn: 0.5897789\ttest: 0.5903545\tbest: 0.5903545 (89)\ttotal: 30m 44s\tremaining: 3m 24s\n",
      "90:\tlearn: 0.5897029\ttest: 0.5902838\tbest: 0.5902838 (90)\ttotal: 31m 3s\tremaining: 3m 4s\n",
      "91:\tlearn: 0.5895927\ttest: 0.5901823\tbest: 0.5901823 (91)\ttotal: 31m 19s\tremaining: 2m 43s\n",
      "92:\tlearn: 0.5894953\ttest: 0.5900923\tbest: 0.5900923 (92)\ttotal: 31m 37s\tremaining: 2m 22s\n",
      "93:\tlearn: 0.5894013\ttest: 0.5899993\tbest: 0.5899993 (93)\ttotal: 31m 55s\tremaining: 2m 2s\n",
      "94:\tlearn: 0.5893045\ttest: 0.5899076\tbest: 0.5899076 (94)\ttotal: 32m 10s\tremaining: 1m 41s\n",
      "95:\tlearn: 0.5892102\ttest: 0.5898174\tbest: 0.5898174 (95)\ttotal: 32m 26s\tremaining: 1m 21s\n",
      "96:\tlearn: 0.5891296\ttest: 0.5897437\tbest: 0.5897437 (96)\ttotal: 32m 47s\tremaining: 1m\n",
      "97:\tlearn: 0.5890472\ttest: 0.5896692\tbest: 0.5896692 (97)\ttotal: 33m 14s\tremaining: 40.7s\n",
      "98:\tlearn: 0.5889790\ttest: 0.5896067\tbest: 0.5896067 (98)\ttotal: 33m 36s\tremaining: 20.4s\n",
      "99:\tlearn: 0.5888531\ttest: 0.5894852\tbest: 0.5894852 (99)\ttotal: 33m 52s\tremaining: 0us\n"
     ]
    },
    {
     "data": {
      "text/plain": "    iterations  test-CrossEntropy-mean  test-CrossEntropy-std  \\\n0            0                0.677263               0.000117   \n1            1                0.664337               0.000045   \n2            2                0.653972               0.000093   \n3            3                0.645596               0.000082   \n4            4                0.638642               0.000036   \n..         ...                     ...                    ...   \n95          95                0.589817               0.000408   \n96          96                0.589744               0.000403   \n97          97                0.589669               0.000409   \n98          98                0.589607               0.000400   \n99          99                0.589485               0.000408   \n\n    train-CrossEntropy-mean  train-CrossEntropy-std  test-AUC-mean  \\\n0                  0.677256                0.000093       0.719396   \n1                  0.664330                0.000045       0.724240   \n2                  0.653965                0.000112       0.725393   \n3                  0.645582                0.000081       0.726154   \n4                  0.638625                0.000156       0.727059   \n..                      ...                     ...            ...   \n95                 0.589210                0.000126       0.750793   \n96                 0.589130                0.000130       0.750867   \n97                 0.589047                0.000106       0.750949   \n98                 0.588979                0.000109       0.751011   \n99                 0.588853                0.000107       0.751149   \n\n    test-AUC-std  \n0       0.000726  \n1       0.000431  \n2       0.000467  \n3       0.000529  \n4       0.000415  \n..           ...  \n95      0.000571  \n96      0.000567  \n97      0.000574  \n98      0.000568  \n99      0.000588  \n\n[100 rows x 7 columns]",
      "text/html": "<div>\n<style scoped>\n    .dataframe tbody tr th:only-of-type {\n        vertical-align: middle;\n    }\n\n    .dataframe tbody tr th {\n        vertical-align: top;\n    }\n\n    .dataframe thead th {\n        text-align: right;\n    }\n</style>\n<table border=\"1\" class=\"dataframe\">\n  <thead>\n    <tr style=\"text-align: right;\">\n      <th></th>\n      <th>iterations</th>\n      <th>test-CrossEntropy-mean</th>\n      <th>test-CrossEntropy-std</th>\n      <th>train-CrossEntropy-mean</th>\n      <th>train-CrossEntropy-std</th>\n      <th>test-AUC-mean</th>\n      <th>test-AUC-std</th>\n    </tr>\n  </thead>\n  <tbody>\n    <tr>\n      <th>0</th>\n      <td>0</td>\n      <td>0.677263</td>\n      <td>0.000117</td>\n      <td>0.677256</td>\n      <td>0.000093</td>\n      <td>0.719396</td>\n      <td>0.000726</td>\n    </tr>\n    <tr>\n      <th>1</th>\n      <td>1</td>\n      <td>0.664337</td>\n      <td>0.000045</td>\n      <td>0.664330</td>\n      <td>0.000045</td>\n      <td>0.724240</td>\n      <td>0.000431</td>\n    </tr>\n    <tr>\n      <th>2</th>\n      <td>2</td>\n      <td>0.653972</td>\n      <td>0.000093</td>\n      <td>0.653965</td>\n      <td>0.000112</td>\n      <td>0.725393</td>\n      <td>0.000467</td>\n    </tr>\n    <tr>\n      <th>3</th>\n      <td>3</td>\n      <td>0.645596</td>\n      <td>0.000082</td>\n      <td>0.645582</td>\n      <td>0.000081</td>\n      <td>0.726154</td>\n      <td>0.000529</td>\n    </tr>\n    <tr>\n      <th>4</th>\n      <td>4</td>\n      <td>0.638642</td>\n      <td>0.000036</td>\n      <td>0.638625</td>\n      <td>0.000156</td>\n      <td>0.727059</td>\n      <td>0.000415</td>\n    </tr>\n    <tr>\n      <th>...</th>\n      <td>...</td>\n      <td>...</td>\n      <td>...</td>\n      <td>...</td>\n      <td>...</td>\n      <td>...</td>\n      <td>...</td>\n    </tr>\n    <tr>\n      <th>95</th>\n      <td>95</td>\n      <td>0.589817</td>\n      <td>0.000408</td>\n      <td>0.589210</td>\n      <td>0.000126</td>\n      <td>0.750793</td>\n      <td>0.000571</td>\n    </tr>\n    <tr>\n      <th>96</th>\n      <td>96</td>\n      <td>0.589744</td>\n      <td>0.000403</td>\n      <td>0.589130</td>\n      <td>0.000130</td>\n      <td>0.750867</td>\n      <td>0.000567</td>\n    </tr>\n    <tr>\n      <th>97</th>\n      <td>97</td>\n      <td>0.589669</td>\n      <td>0.000409</td>\n      <td>0.589047</td>\n      <td>0.000106</td>\n      <td>0.750949</td>\n      <td>0.000574</td>\n    </tr>\n    <tr>\n      <th>98</th>\n      <td>98</td>\n      <td>0.589607</td>\n      <td>0.000400</td>\n      <td>0.588979</td>\n      <td>0.000109</td>\n      <td>0.751011</td>\n      <td>0.000568</td>\n    </tr>\n    <tr>\n      <th>99</th>\n      <td>99</td>\n      <td>0.589485</td>\n      <td>0.000408</td>\n      <td>0.588853</td>\n      <td>0.000107</td>\n      <td>0.751149</td>\n      <td>0.000588</td>\n    </tr>\n  </tbody>\n</table>\n<p>100 rows × 7 columns</p>\n</div>"
     },
     "execution_count": 110,
     "metadata": {},
     "output_type": "execute_result"
    }
   ],
   "source": [
    "dataset_train['w2v_score'] = score\n",
    "pool_with_w2v = Pool(data=dataset_train, label=y, cat_features=cat_features, has_header=True)\n",
    "cv_data = cv(params = best_params, pool = pool_with_w2v, fold_count = 5)\n",
    "cv_data"
   ],
   "metadata": {
    "collapsed": false,
    "pycharm": {
     "name": "#%%\n"
    }
   }
  },
  {
   "cell_type": "markdown",
   "source": [
    "Итого AUC на 5-fold получился:"
   ],
   "metadata": {
    "collapsed": false
   }
  },
  {
   "cell_type": "code",
   "execution_count": 111,
   "outputs": [
    {
     "data": {
      "text/plain": "0.7511494181774302"
     },
     "execution_count": 111,
     "metadata": {},
     "output_type": "execute_result"
    }
   ],
   "source": [
    "cv_data.iloc[-1]['test-AUC-mean']"
   ],
   "metadata": {
    "collapsed": false,
    "pycharm": {
     "name": "#%%\n"
    }
   }
  },
  {
   "cell_type": "markdown",
   "source": [
    "Получилось улучшить результат с 0.71 с 0.75, так что добавленный новый признак w2v_score очень важный"
   ],
   "metadata": {
    "collapsed": false,
    "pycharm": {
     "name": "#%% md\n"
    }
   }
  },
  {
   "cell_type": "code",
   "execution_count": 114,
   "outputs": [
    {
     "data": {
      "text/plain": "<catboost.core.CatBoostClassifier at 0x7fc355b60fa0>"
     },
     "execution_count": 114,
     "metadata": {},
     "output_type": "execute_result"
    }
   ],
   "source": [
    "model = CatBoostClassifier(**best_params, verbose=False)\n",
    "model.fit(pool_with_w2v)"
   ],
   "metadata": {
    "collapsed": false,
    "pycharm": {
     "name": "#%%\n"
    }
   }
  },
  {
   "cell_type": "code",
   "execution_count": 116,
   "outputs": [
    {
     "data": {
      "text/plain": "<Figure size 576x511.2 with 1 Axes>",
      "image/png": "[encoded data removed]"
     },
     "metadata": {
      "needs_background": "light"
     },
     "output_type": "display_data"
    }
   ],
   "source": [
    "import shap\n",
    "\n",
    "shap_values = shap.TreeExplainer(model).shap_values(dataset_train)\n",
    "\n",
    "shap.summary_plot(shap_values, dataset_train, plot_type=\"bar\")"
   ],
   "metadata": {
    "collapsed": false,
    "pycharm": {
     "name": "#%%\n"
    }
   }
  },
  {
   "cell_type": "markdown",
   "source": [
    "Как и ожидали - получили w2v_score как самый влияющий на результат признак\n"
   ],
   "metadata": {
    "collapsed": false,
    "pycharm": {
     "name": "#%% md\n"
    }
   }
  }
 ],
 "metadata": {
  "kernelspec": {
   "display_name": "Python 3",
   "language": "python",
   "name": "python3"
  },
  "language_info": {
   "codemirror_mode": {
    "name": "ipython",
    "version": 2
   },
   "file_extension": ".py",
   "mimetype": "text/x-python",
   "name": "python",
   "nbconvert_exporter": "python",
   "pygments_lexer": "ipython2",
   "version": "2.7.6"
  }
 },
 "nbformat": 4,
 "nbformat_minor": 0
}