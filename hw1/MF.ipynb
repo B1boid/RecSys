{
 "cells": [
  {
   "cell_type": "markdown",
   "source": [
    "### Матричные факторизации"
   ],
   "metadata": {
    "collapsed": false
   }
  },
  {
   "cell_type": "markdown",
   "source": [
    "В данной работе вам предстоит познакомиться с практической стороной матричных разложений.\n",
    "Работа поделена на 4 задания:\n",
    "1. Вам необходимо реализовать SVD разложения используя SGD на explicit данных\n",
    "2. Вам необходимо реализовать матричное разложения используя ALS на implicit данных\n",
    "3. Вам необходимо реализовать матричное разложения используя BPR(pair-wise loss) на implicit данных\n",
    "4. Вам необходимо реализовать матричное разложения используя WARP(list-wise loss) на implicit данных"
   ],
   "metadata": {
    "collapsed": false
   }
  },
  {
   "cell_type": "markdown",
   "source": [
    "#### Пример со встроенными функциями"
   ],
   "metadata": {
    "collapsed": false
   }
  },
  {
   "cell_type": "code",
   "execution_count": 69,
   "outputs": [],
   "source": [
    "import implicit\n",
    "import pandas as pd\n",
    "import numpy as np\n",
    "import scipy.sparse as sp\n",
    "\n",
    "from tqdm import tqdm\n"
   ],
   "metadata": {
    "collapsed": false,
    "pycharm": {
     "name": "#%%\n"
    }
   }
  },
  {
   "cell_type": "markdown",
   "source": [
    "В данной работе мы будем работать с explicit датасетом movieLens, в котором представленны пары user_id movie_id и rating выставленный пользователем фильму\n",
    "\n",
    "Скачать датасет можно по ссылке https://grouplens.org/datasets/movielens/1m/"
   ],
   "metadata": {
    "collapsed": false
   }
  },
  {
   "cell_type": "code",
   "execution_count": 70,
   "outputs": [],
   "source": [
    "ratings = pd.read_csv('data/ratings.dat', delimiter='::', header=None,\n",
    "        names=['user_id', 'movie_id', 'rating', 'timestamp'],\n",
    "        usecols=['user_id', 'movie_id', 'rating'], engine='python')"
   ],
   "metadata": {
    "collapsed": false,
    "pycharm": {
     "name": "#%%\n"
    }
   }
  },
  {
   "cell_type": "code",
   "execution_count": 71,
   "outputs": [
    {
     "data": {
      "text/plain": "      movie_id                                name  \\\n0            1                    Toy Story (1995)   \n1            2                      Jumanji (1995)   \n2            3             Grumpier Old Men (1995)   \n3            4            Waiting to Exhale (1995)   \n4            5  Father of the Bride Part II (1995)   \n...        ...                                 ...   \n3878      3948             Meet the Parents (2000)   \n3879      3949          Requiem for a Dream (2000)   \n3880      3950                    Tigerland (2000)   \n3881      3951             Two Family House (2000)   \n3882      3952               Contender, The (2000)   \n\n                          category  \n0      Animation|Children's|Comedy  \n1     Adventure|Children's|Fantasy  \n2                   Comedy|Romance  \n3                     Comedy|Drama  \n4                           Comedy  \n...                            ...  \n3878                        Comedy  \n3879                         Drama  \n3880                         Drama  \n3881                         Drama  \n3882                Drama|Thriller  \n\n[3883 rows x 3 columns]",
      "text/html": "<div>\n<style scoped>\n    .dataframe tbody tr th:only-of-type {\n        vertical-align: middle;\n    }\n\n    .dataframe tbody tr th {\n        vertical-align: top;\n    }\n\n    .dataframe thead th {\n        text-align: right;\n    }\n</style>\n<table border=\"1\" class=\"dataframe\">\n  <thead>\n    <tr style=\"text-align: right;\">\n      <th></th>\n      <th>movie_id</th>\n      <th>name</th>\n      <th>category</th>\n    </tr>\n  </thead>\n  <tbody>\n    <tr>\n      <th>0</th>\n      <td>1</td>\n      <td>Toy Story (1995)</td>\n      <td>Animation|Children's|Comedy</td>\n    </tr>\n    <tr>\n      <th>1</th>\n      <td>2</td>\n      <td>Jumanji (1995)</td>\n      <td>Adventure|Children's|Fantasy</td>\n    </tr>\n    <tr>\n      <th>2</th>\n      <td>3</td>\n      <td>Grumpier Old Men (1995)</td>\n      <td>Comedy|Romance</td>\n    </tr>\n    <tr>\n      <th>3</th>\n      <td>4</td>\n      <td>Waiting to Exhale (1995)</td>\n      <td>Comedy|Drama</td>\n    </tr>\n    <tr>\n      <th>4</th>\n      <td>5</td>\n      <td>Father of the Bride Part II (1995)</td>\n      <td>Comedy</td>\n    </tr>\n    <tr>\n      <th>...</th>\n      <td>...</td>\n      <td>...</td>\n      <td>...</td>\n    </tr>\n    <tr>\n      <th>3878</th>\n      <td>3948</td>\n      <td>Meet the Parents (2000)</td>\n      <td>Comedy</td>\n    </tr>\n    <tr>\n      <th>3879</th>\n      <td>3949</td>\n      <td>Requiem for a Dream (2000)</td>\n      <td>Drama</td>\n    </tr>\n    <tr>\n      <th>3880</th>\n      <td>3950</td>\n      <td>Tigerland (2000)</td>\n      <td>Drama</td>\n    </tr>\n    <tr>\n      <th>3881</th>\n      <td>3951</td>\n      <td>Two Family House (2000)</td>\n      <td>Drama</td>\n    </tr>\n    <tr>\n      <th>3882</th>\n      <td>3952</td>\n      <td>Contender, The (2000)</td>\n      <td>Drama|Thriller</td>\n    </tr>\n  </tbody>\n</table>\n<p>3883 rows × 3 columns</p>\n</div>"
     },
     "execution_count": 71,
     "metadata": {},
     "output_type": "execute_result"
    }
   ],
   "source": [
    "movie_info = pd.read_csv('data/movies.dat', delimiter='::', header=None,\n",
    "        names=['movie_id', 'name', 'category'], engine='python')\n",
    "\n",
    "movie_info"
   ],
   "metadata": {
    "collapsed": false,
    "pycharm": {
     "name": "#%%\n"
    }
   }
  },
  {
   "cell_type": "markdown",
   "source": [
    "Explicit данные"
   ],
   "metadata": {
    "collapsed": false
   }
  },
  {
   "cell_type": "code",
   "execution_count": 72,
   "outputs": [
    {
     "data": {
      "text/plain": "         user_id  movie_id  rating\n0              1      1193       5\n1              1       661       3\n2              1       914       3\n3              1      3408       4\n4              1      2355       5\n...          ...       ...     ...\n1000204     6040      1091       1\n1000205     6040      1094       5\n1000206     6040       562       5\n1000207     6040      1096       4\n1000208     6040      1097       4\n\n[1000209 rows x 3 columns]",
      "text/html": "<div>\n<style scoped>\n    .dataframe tbody tr th:only-of-type {\n        vertical-align: middle;\n    }\n\n    .dataframe tbody tr th {\n        vertical-align: top;\n    }\n\n    .dataframe thead th {\n        text-align: right;\n    }\n</style>\n<table border=\"1\" class=\"dataframe\">\n  <thead>\n    <tr style=\"text-align: right;\">\n      <th></th>\n      <th>user_id</th>\n      <th>movie_id</th>\n      <th>rating</th>\n    </tr>\n  </thead>\n  <tbody>\n    <tr>\n      <th>0</th>\n      <td>1</td>\n      <td>1193</td>\n      <td>5</td>\n    </tr>\n    <tr>\n      <th>1</th>\n      <td>1</td>\n      <td>661</td>\n      <td>3</td>\n    </tr>\n    <tr>\n      <th>2</th>\n      <td>1</td>\n      <td>914</td>\n      <td>3</td>\n    </tr>\n    <tr>\n      <th>3</th>\n      <td>1</td>\n      <td>3408</td>\n      <td>4</td>\n    </tr>\n    <tr>\n      <th>4</th>\n      <td>1</td>\n      <td>2355</td>\n      <td>5</td>\n    </tr>\n    <tr>\n      <th>...</th>\n      <td>...</td>\n      <td>...</td>\n      <td>...</td>\n    </tr>\n    <tr>\n      <th>1000204</th>\n      <td>6040</td>\n      <td>1091</td>\n      <td>1</td>\n    </tr>\n    <tr>\n      <th>1000205</th>\n      <td>6040</td>\n      <td>1094</td>\n      <td>5</td>\n    </tr>\n    <tr>\n      <th>1000206</th>\n      <td>6040</td>\n      <td>562</td>\n      <td>5</td>\n    </tr>\n    <tr>\n      <th>1000207</th>\n      <td>6040</td>\n      <td>1096</td>\n      <td>4</td>\n    </tr>\n    <tr>\n      <th>1000208</th>\n      <td>6040</td>\n      <td>1097</td>\n      <td>4</td>\n    </tr>\n  </tbody>\n</table>\n<p>1000209 rows × 3 columns</p>\n</div>"
     },
     "execution_count": 72,
     "metadata": {},
     "output_type": "execute_result"
    }
   ],
   "source": [
    "ratings"
   ],
   "metadata": {
    "collapsed": false,
    "pycharm": {
     "name": "#%%\n"
    }
   }
  },
  {
   "cell_type": "markdown",
   "source": [
    "Для того, чтобы преобразовать текущий датасет в Implicit, давайте считать что позитивная оценка это оценка >=4"
   ],
   "metadata": {
    "collapsed": false
   }
  },
  {
   "cell_type": "code",
   "execution_count": 73,
   "outputs": [],
   "source": [
    "implicit_ratings = ratings.loc[(ratings['rating'] >= 4)]"
   ],
   "metadata": {
    "collapsed": false,
    "pycharm": {
     "name": "#%%\n"
    }
   }
  },
  {
   "cell_type": "code",
   "execution_count": 74,
   "outputs": [
    {
     "data": {
      "text/plain": "    user_id  movie_id  rating\n0         1      1193       5\n3         1      3408       4\n4         1      2355       5\n6         1      1287       5\n7         1      2804       5\n8         1       594       4\n9         1       919       4\n10        1       595       5\n11        1       938       4\n12        1      2398       4",
      "text/html": "<div>\n<style scoped>\n    .dataframe tbody tr th:only-of-type {\n        vertical-align: middle;\n    }\n\n    .dataframe tbody tr th {\n        vertical-align: top;\n    }\n\n    .dataframe thead th {\n        text-align: right;\n    }\n</style>\n<table border=\"1\" class=\"dataframe\">\n  <thead>\n    <tr style=\"text-align: right;\">\n      <th></th>\n      <th>user_id</th>\n      <th>movie_id</th>\n      <th>rating</th>\n    </tr>\n  </thead>\n  <tbody>\n    <tr>\n      <th>0</th>\n      <td>1</td>\n      <td>1193</td>\n      <td>5</td>\n    </tr>\n    <tr>\n      <th>3</th>\n      <td>1</td>\n      <td>3408</td>\n      <td>4</td>\n    </tr>\n    <tr>\n      <th>4</th>\n      <td>1</td>\n      <td>2355</td>\n      <td>5</td>\n    </tr>\n    <tr>\n      <th>6</th>\n      <td>1</td>\n      <td>1287</td>\n      <td>5</td>\n    </tr>\n    <tr>\n      <th>7</th>\n      <td>1</td>\n      <td>2804</td>\n      <td>5</td>\n    </tr>\n    <tr>\n      <th>8</th>\n      <td>1</td>\n      <td>594</td>\n      <td>4</td>\n    </tr>\n    <tr>\n      <th>9</th>\n      <td>1</td>\n      <td>919</td>\n      <td>4</td>\n    </tr>\n    <tr>\n      <th>10</th>\n      <td>1</td>\n      <td>595</td>\n      <td>5</td>\n    </tr>\n    <tr>\n      <th>11</th>\n      <td>1</td>\n      <td>938</td>\n      <td>4</td>\n    </tr>\n    <tr>\n      <th>12</th>\n      <td>1</td>\n      <td>2398</td>\n      <td>4</td>\n    </tr>\n  </tbody>\n</table>\n</div>"
     },
     "execution_count": 74,
     "metadata": {},
     "output_type": "execute_result"
    }
   ],
   "source": [
    "implicit_ratings.head(10)"
   ],
   "metadata": {
    "collapsed": false,
    "pycharm": {
     "name": "#%%\n"
    }
   }
  },
  {
   "cell_type": "markdown",
   "source": [
    "Удобнее работать с sparse матричками, давайте преобразуем DataFrame в CSR матрицы"
   ],
   "metadata": {
    "collapsed": false
   }
  },
  {
   "cell_type": "code",
   "execution_count": 75,
   "outputs": [
    {
     "data": {
      "text/plain": "<6041x3953 sparse matrix of type '<class 'numpy.int64'>'\n\twith 575281 stored elements in Compressed Sparse Row format>"
     },
     "execution_count": 75,
     "metadata": {},
     "output_type": "execute_result"
    }
   ],
   "source": [
    "users = implicit_ratings[\"user_id\"]\n",
    "movies = implicit_ratings[\"movie_id\"]\n",
    "user_item = sp.coo_matrix((np.ones_like(users), (users, movies)))\n",
    "user_item_t_csr = user_item.T.tocsr()\n",
    "user_item_csr = user_item.tocsr()\n",
    "\n",
    "user_item_csr"
   ],
   "metadata": {
    "collapsed": false,
    "pycharm": {
     "name": "#%%\n"
    }
   }
  },
  {
   "cell_type": "markdown",
   "source": [
    "В качестве примера воспользуемся ALS разложением из библиотеки implicit\n",
    "\n",
    "Зададим размерность латентного пространства равным 64, это же определяет размер user/item эмбедингов"
   ],
   "metadata": {
    "collapsed": false
   }
  },
  {
   "cell_type": "code",
   "execution_count": 76,
   "outputs": [],
   "source": [
    "model = implicit.als.AlternatingLeastSquares(factors=64, iterations=100, calculate_training_loss=True)"
   ],
   "metadata": {
    "collapsed": false,
    "pycharm": {
     "name": "#%%\n"
    }
   }
  },
  {
   "cell_type": "markdown",
   "source": [
    "В качестве loss здесь всеми любимый RMSE"
   ],
   "metadata": {
    "collapsed": false
   }
  },
  {
   "cell_type": "code",
   "execution_count": 77,
   "outputs": [
    {
     "data": {
      "text/plain": "HBox(children=(HTML(value=''), FloatProgress(value=0.0), HTML(value='')))",
      "application/vnd.jupyter.widget-view+json": {
       "version_major": 2,
       "version_minor": 0,
       "model_id": "5d6cae2d0ed2455d9b946af0da341d09"
      }
     },
     "metadata": {},
     "output_type": "display_data"
    },
    {
     "name": "stdout",
     "output_type": "stream",
     "text": [
      "\n"
     ]
    }
   ],
   "source": [
    "model.fit(user_item_t_csr)"
   ],
   "metadata": {
    "collapsed": false,
    "pycharm": {
     "name": "#%%\n"
    }
   }
  },
  {
   "cell_type": "markdown",
   "source": [
    "Построим похожие фильмы по 1 movie_id = Истории игрушек"
   ],
   "metadata": {
    "collapsed": false
   }
  },
  {
   "cell_type": "code",
   "execution_count": 78,
   "outputs": [
    {
     "data": {
      "text/plain": "   movie_id                                name                      category\n0         1                    Toy Story (1995)   Animation|Children's|Comedy\n1         2                      Jumanji (1995)  Adventure|Children's|Fantasy\n2         3             Grumpier Old Men (1995)                Comedy|Romance\n3         4            Waiting to Exhale (1995)                  Comedy|Drama\n4         5  Father of the Bride Part II (1995)                        Comedy",
      "text/html": "<div>\n<style scoped>\n    .dataframe tbody tr th:only-of-type {\n        vertical-align: middle;\n    }\n\n    .dataframe tbody tr th {\n        vertical-align: top;\n    }\n\n    .dataframe thead th {\n        text-align: right;\n    }\n</style>\n<table border=\"1\" class=\"dataframe\">\n  <thead>\n    <tr style=\"text-align: right;\">\n      <th></th>\n      <th>movie_id</th>\n      <th>name</th>\n      <th>category</th>\n    </tr>\n  </thead>\n  <tbody>\n    <tr>\n      <th>0</th>\n      <td>1</td>\n      <td>Toy Story (1995)</td>\n      <td>Animation|Children's|Comedy</td>\n    </tr>\n    <tr>\n      <th>1</th>\n      <td>2</td>\n      <td>Jumanji (1995)</td>\n      <td>Adventure|Children's|Fantasy</td>\n    </tr>\n    <tr>\n      <th>2</th>\n      <td>3</td>\n      <td>Grumpier Old Men (1995)</td>\n      <td>Comedy|Romance</td>\n    </tr>\n    <tr>\n      <th>3</th>\n      <td>4</td>\n      <td>Waiting to Exhale (1995)</td>\n      <td>Comedy|Drama</td>\n    </tr>\n    <tr>\n      <th>4</th>\n      <td>5</td>\n      <td>Father of the Bride Part II (1995)</td>\n      <td>Comedy</td>\n    </tr>\n  </tbody>\n</table>\n</div>"
     },
     "execution_count": 78,
     "metadata": {},
     "output_type": "execute_result"
    }
   ],
   "source": [
    "movie_info.head(5)"
   ],
   "metadata": {
    "collapsed": false,
    "pycharm": {
     "name": "#%%\n"
    }
   }
  },
  {
   "cell_type": "code",
   "execution_count": 79,
   "outputs": [],
   "source": [
    "get_similars = lambda item_id, model : [movie_info[movie_info[\"movie_id\"] == x[0]][\"name\"].to_string()\n",
    "                                        for x in model.similar_items(item_id)]"
   ],
   "metadata": {
    "collapsed": false,
    "pycharm": {
     "name": "#%%\n"
    }
   }
  },
  {
   "cell_type": "markdown",
   "source": [
    "Как мы видим, симилары действительно оказались симиларами.\n",
    "\n",
    "Качество симиларов часто является хорошим способом проверить качество алгоритмов.\n",
    "\n",
    "P.S. Если хочется поглубже разобраться в том как разные алгоритмы формируют разные латентные пространства, рекомендую загружать полученные вектора в tensorBoard и смотреть на сформированное пространство"
   ],
   "metadata": {
    "collapsed": false
   }
  },
  {
   "cell_type": "code",
   "execution_count": 80,
   "outputs": [
    {
     "data": {
      "text/plain": "['0    Toy Story (1995)',\n '3045    Toy Story 2 (1999)',\n \"2286    Bug's Life, A (1998)\",\n '33    Babe (1995)',\n '584    Aladdin (1992)',\n '2315    Babe: Pig in the City (1998)',\n '360    Lion King, The (1994)',\n '1526    Hercules (1997)',\n '2252    Pleasantville (1998)',\n '2692    Iron Giant, The (1999)']"
     },
     "execution_count": 80,
     "metadata": {},
     "output_type": "execute_result"
    }
   ],
   "source": [
    "get_similars(1, model)"
   ],
   "metadata": {
    "collapsed": false,
    "pycharm": {
     "name": "#%%\n"
    }
   }
  },
  {
   "cell_type": "markdown",
   "source": [
    "Давайте теперь построим рекомендации для юзеров\n",
    "\n",
    "Как мы видим юзеру нравится фантастика, значит и в рекомендациях ожидаем увидеть фантастику"
   ],
   "metadata": {
    "collapsed": false
   }
  },
  {
   "cell_type": "code",
   "execution_count": 81,
   "outputs": [],
   "source": [
    "get_user_history = lambda user_id, cur_ratings : [movie_info[movie_info[\"movie_id\"] == x][\"name\"].to_string()\n",
    "                                            for x in cur_ratings[cur_ratings[\"user_id\"] == user_id][\"movie_id\"]]"
   ],
   "metadata": {
    "collapsed": false,
    "pycharm": {
     "name": "#%%\n"
    }
   }
  },
  {
   "cell_type": "code",
   "execution_count": 82,
   "outputs": [
    {
     "data": {
      "text/plain": "['3399    Hustler, The (1961)',\n '2882    Fistful of Dollars, A (1964)',\n '1196    Alien (1979)',\n '1023    Die Hard (1988)',\n '257    Star Wars: Episode IV - A New Hope (1977)',\n '1959    Saving Private Ryan (1998)',\n '476    Jurassic Park (1993)',\n '1180    Raiders of the Lost Ark (1981)',\n '1885    Rocky (1976)',\n '1081    E.T. the Extra-Terrestrial (1982)',\n '3349    Thelma & Louise (1991)',\n '3633    Mad Max (1979)',\n '2297    King Kong (1933)',\n '1366    Jaws (1975)',\n '1183    Good, The Bad and The Ugly, The (1966)',\n '2623    Run Lola Run (Lola rennt) (1998)',\n '2878    Goldfinger (1964)',\n '1220    Terminator, The (1984)']"
     },
     "execution_count": 82,
     "metadata": {},
     "output_type": "execute_result"
    }
   ],
   "source": [
    "get_user_history(4, implicit_ratings)"
   ],
   "metadata": {
    "collapsed": false,
    "pycharm": {
     "name": "#%%\n"
    }
   }
  },
  {
   "cell_type": "markdown",
   "source": [
    "Получилось!\n",
    "\n",
    "Мы действительно порекомендовали пользователю фантастику и боевики, более того встречаются продолжения тех фильмов, которые он высоко оценил"
   ],
   "metadata": {
    "collapsed": false
   }
  },
  {
   "cell_type": "code",
   "execution_count": 83,
   "outputs": [],
   "source": [
    "get_recommendations = lambda user_id, model : [movie_info[movie_info[\"movie_id\"] == x[0]][\"name\"].to_string()\n",
    "                                               for x in model.recommend(user_id, user_item_csr)]"
   ],
   "metadata": {
    "collapsed": false,
    "pycharm": {
     "name": "#%%\n"
    }
   }
  },
  {
   "cell_type": "code",
   "execution_count": 84,
   "outputs": [
    {
     "data": {
      "text/plain": "['585    Terminator 2: Judgment Day (1991)',\n '1271    Indiana Jones and the Last Crusade (1989)',\n '1284    Butch Cassidy and the Sundance Kid (1969)',\n '1182    Aliens (1986)',\n '1178    Star Wars: Episode V - The Empire Strikes Back...',\n '2502    Matrix, The (1999)',\n '1884    French Connection, The (1971)',\n '1179    Princess Bride, The (1987)',\n '3458    Predator (1987)',\n '847    Godfather, The (1972)']"
     },
     "execution_count": 84,
     "metadata": {},
     "output_type": "execute_result"
    }
   ],
   "source": [
    "get_recommendations(4, model)"
   ],
   "metadata": {
    "collapsed": false,
    "pycharm": {
     "name": "#%%\n"
    }
   }
  },
  {
   "cell_type": "markdown",
   "source": [
    "Теперь ваша очередь реализовать самые популярные алгоритмы матричных разложений\n",
    "\n",
    "Что будет оцениваться:\n",
    "1. Корректность алгоритма\n",
    "2. Качество получившихся симиларов\n",
    "3. Качество итоговых рекомендаций для юзера"
   ],
   "metadata": {
    "collapsed": false
   }
  },
  {
   "cell_type": "markdown",
   "source": [
    "### Задание 1. Не используя готовые решения, реализовать SVD разложение используя SGD на explicit данных"
   ],
   "metadata": {
    "collapsed": false
   }
  },
  {
   "cell_type": "markdown",
   "source": [
    "#### Data preprocessing\n",
    "\n",
    "Рассмотрим наши данные поближе, чтобы обнаружить вдруг где-то в них есть ошибка"
   ],
   "metadata": {
    "collapsed": false
   }
  },
  {
   "cell_type": "markdown",
   "source": [
    "Начнем с поля 'rating' оно принимает значение от 1-5, неточностей нет"
   ],
   "metadata": {
    "collapsed": false
   }
  },
  {
   "cell_type": "code",
   "execution_count": 85,
   "outputs": [
    {
     "data": {
      "text/plain": "count    1.000209e+06\nmean     3.581564e+00\nstd      1.117102e+00\nmin      1.000000e+00\n25%      3.000000e+00\n50%      4.000000e+00\n75%      4.000000e+00\nmax      5.000000e+00\nName: rating, dtype: float64"
     },
     "execution_count": 85,
     "metadata": {},
     "output_type": "execute_result"
    }
   ],
   "source": [
    "ratings.rating.describe()"
   ],
   "metadata": {
    "collapsed": false,
    "pycharm": {
     "name": "#%%\n"
    }
   }
  },
  {
   "cell_type": "markdown",
   "source": [
    "Теперь рассмотрим все id и начнем с 'user_id'\n",
    "\n",
    "'user_id' оказались корректными, без пропусков от 1 до последнего юзера"
   ],
   "metadata": {
    "collapsed": false
   }
  },
  {
   "cell_type": "code",
   "execution_count": 86,
   "outputs": [
    {
     "data": {
      "text/plain": "0"
     },
     "execution_count": 86,
     "metadata": {},
     "output_type": "execute_result"
    }
   ],
   "source": [
    "users = np.unique(ratings[\"user_id\"])\n",
    "len(set(range(np.min(users), np.max(users) + 1)) - set(users))"
   ],
   "metadata": {
    "collapsed": false,
    "pycharm": {
     "name": "#%%\n"
    }
   }
  },
  {
   "cell_type": "markdown",
   "source": [
    "Аналогично проделаем с 'movie_id' и увидим что есть пропущенные id"
   ],
   "metadata": {
    "collapsed": false
   }
  },
  {
   "cell_type": "code",
   "execution_count": 87,
   "outputs": [
    {
     "data": {
      "text/plain": "246"
     },
     "execution_count": 87,
     "metadata": {},
     "output_type": "execute_result"
    }
   ],
   "source": [
    "movies = np.unique(ratings[\"movie_id\"])\n",
    "len(set(range(np.min(movies), np.max(movies) + 1)) - set(movies))"
   ],
   "metadata": {
    "collapsed": false,
    "pycharm": {
     "name": "#%%\n"
    }
   }
  },
  {
   "cell_type": "markdown",
   "source": [
    "Сделаем новые корректные id для фильмов, для этого заведем словари"
   ],
   "metadata": {
    "collapsed": false
   }
  },
  {
   "cell_type": "code",
   "execution_count": 88,
   "outputs": [],
   "source": [
    "user_to_id = dict(zip(users, range(len(users))))\n",
    "id_to_user = dict(zip(range(len(users)), users))\n",
    "\n",
    "movie_to_id = dict(zip(movies, range(len(movies))))\n",
    "id_to_movie = dict(zip(range(len(movies)), movies))"
   ],
   "metadata": {
    "collapsed": false,
    "pycharm": {
     "name": "#%%\n"
    }
   }
  },
  {
   "cell_type": "markdown",
   "source": [
    "Изменим старые id на новые в movie_info"
   ],
   "metadata": {
    "collapsed": false
   }
  },
  {
   "cell_type": "code",
   "execution_count": 89,
   "outputs": [],
   "source": [
    "movie_info['movie_id'] = movie_info['movie_id'].map(movie_to_id)"
   ],
   "metadata": {
    "collapsed": false,
    "pycharm": {
     "name": "#%%\n"
    }
   }
  },
  {
   "cell_type": "markdown",
   "source": [
    "Составим матрицу рейтингов для новых id"
   ],
   "metadata": {
    "collapsed": false
   }
  },
  {
   "cell_type": "code",
   "execution_count": 90,
   "outputs": [
    {
     "data": {
      "text/plain": "<6040x3706 sparse matrix of type '<class 'numpy.int64'>'\n\twith 1000209 stored elements in Compressed Sparse Row format>"
     },
     "execution_count": 90,
     "metadata": {},
     "output_type": "execute_result"
    }
   ],
   "source": [
    "user_item = sp.coo_matrix((ratings[\"rating\"], ([user_to_id[user] for user in ratings[\"user_id\"]], [movie_to_id[movie] for movie in ratings[\"movie_id\"]])))\n",
    "user_item_explicit_t_csr = user_item.T.tocsr()\n",
    "user_item_explicit_csr = user_item.tocsr()\n",
    "user_item_explicit_csr"
   ],
   "metadata": {
    "collapsed": false,
    "pycharm": {
     "name": "#%%\n"
    }
   }
  },
  {
   "cell_type": "markdown",
   "source": [
    "Создадим класс Recommender и отнаследуем от него все реализации, чтобы вынести общий код"
   ],
   "metadata": {
    "collapsed": false
   }
  },
  {
   "cell_type": "code",
   "execution_count": 91,
   "outputs": [],
   "source": [
    "class Recommender:\n",
    "    def __init__(self, features_dim, lambda_reg):\n",
    "        self.features_dim = features_dim\n",
    "        self.lambda_reg = lambda_reg\n",
    "        self.width, self.height, self.size = None, None, None\n",
    "        self.W, self.H = None, None\n",
    "        self.nonzero, self.data = None, None\n",
    "\n",
    "    def prepare_fit(self, X_csr):\n",
    "        self.width, self.height, self.size = X_csr.shape[0], X_csr.shape[1], len(X_csr.data)\n",
    "        self.W = np.random.uniform(0.0, 1.0 / np.sqrt(self.features_dim), (self.width, self.features_dim))\n",
    "        self.H = np.random.uniform(0.0, 1.0 / np.sqrt(self.features_dim), (self.height, self.features_dim))\n",
    "        self.nonzero = X_csr.nonzero()\n",
    "        self.data = X_csr.toarray()\n",
    "\n",
    "    def similar_items(self, item_id, num = 10):\n",
    "        return np.asarray([np.linalg.norm(col - self.H[item_id]) for col in self.H]).argsort()[:num]\n",
    "\n",
    "    def recommend(self, user_id, cur_user_item_csr, num = 10):\n",
    "        items_ids = cur_user_item_csr[user_id].indices\n",
    "        bias_W = self.bias_W[user_id] if hasattr(self, 'bias_W') else 0\n",
    "        bias_H = self.bias_H if hasattr(self, 'bias_H') else 0\n",
    "        mu = self.mu if hasattr(self, 'mu') else 0\n",
    "        candidates = self.W[user_id] @ self.H.T + bias_W + bias_H + mu\n",
    "        return list(filter(lambda candidate: candidate not in items_ids , candidates.argsort()[::-1]))[:num]"
   ],
   "metadata": {
    "collapsed": false,
    "pycharm": {
     "name": "#%%\n"
    }
   }
  },
  {
   "cell_type": "code",
   "execution_count": 92,
   "outputs": [],
   "source": [
    "class SVD(Recommender):\n",
    "    def __init__(self, features_dim = 64, eps = 0.01, learning_rate = 0.01, lambda_reg = 0.01, batches = 20, batch_size = 500000, seed = 1):\n",
    "        super().__init__(features_dim, lambda_reg)\n",
    "        self.eps = eps\n",
    "        self.learning_rate = learning_rate\n",
    "        self.batches = batches\n",
    "        self.batch_size = batch_size\n",
    "        self.bias_W, self.bias_H, self.mu = None, None, None\n",
    "        np.random.seed(seed)\n",
    "\n",
    "    def fit(self, X_csr):\n",
    "        super().prepare_fit(X_csr)\n",
    "        bias_W, bias_H = np.zeros(self.width), np.zeros(self.height)\n",
    "        W, H = self.W, self.H\n",
    "\n",
    "        mu = X_csr.data.mean()\n",
    "        indices = [i for i in range(self.size)]\n",
    "        pbar = tqdm(range(self.batches))\n",
    "        for _ in pbar:\n",
    "            np.random.shuffle(indices)\n",
    "            sum_error = 0\n",
    "            for index in indices[:self.batch_size]:\n",
    "                value, w_id, h_id = X_csr.data[index], self.nonzero[0][index], self.nonzero[1][index]\n",
    "                error = W[w_id] @ H[h_id] + bias_W[w_id] + bias_H[h_id] + mu - value\n",
    "                sum_error += error ** 2\n",
    "\n",
    "                W[w_id] = W[w_id] - self.learning_rate * (error * H[h_id] + self.lambda_reg * W[w_id])\n",
    "                H[h_id] = H[h_id] - self.learning_rate * (error * W[w_id] + self.lambda_reg * H[h_id])\n",
    "\n",
    "                bias_W[w_id] = bias_W[w_id] - self.learning_rate * (error + self.lambda_reg * bias_W[w_id])\n",
    "                bias_H[h_id] = bias_H[h_id] - self.learning_rate * (error + self.lambda_reg * bias_H[h_id])\n",
    "                mu -= self.learning_rate * error\n",
    "\n",
    "            rmse = np.sqrt(sum_error / self.batch_size)\n",
    "            pbar.set_description(\"RMSE: %f\" % rmse)\n",
    "            if rmse < self.eps:\n",
    "                break\n",
    "        self.W, self.H, self.bias_W, self.bias_H, self.mu = W, H, bias_W, bias_H, mu"
   ],
   "metadata": {
    "collapsed": false,
    "pycharm": {
     "name": "#%%\n"
    }
   }
  },
  {
   "cell_type": "code",
   "execution_count": 93,
   "outputs": [
    {
     "name": "stderr",
     "output_type": "stream",
     "text": [
      "RMSE: 0.730044: 100%|██████████| 20/20 [03:02<00:00,  9.14s/it]\n"
     ]
    }
   ],
   "source": [
    "svd = SVD()\n",
    "svd.fit(user_item_explicit_csr)"
   ],
   "metadata": {
    "collapsed": false,
    "pycharm": {
     "name": "#%%\n"
    }
   }
  },
  {
   "cell_type": "markdown",
   "source": [
    "В качестве тестирования похожих фильмов будем рассматривать фильм из примера у которого был id = 1"
   ],
   "metadata": {
    "collapsed": false
   }
  },
  {
   "cell_type": "code",
   "execution_count": 94,
   "outputs": [
    {
     "data": {
      "text/plain": "   movie_id              name                     category\n0       0.0  Toy Story (1995)  Animation|Children's|Comedy",
      "text/html": "<div>\n<style scoped>\n    .dataframe tbody tr th:only-of-type {\n        vertical-align: middle;\n    }\n\n    .dataframe tbody tr th {\n        vertical-align: top;\n    }\n\n    .dataframe thead th {\n        text-align: right;\n    }\n</style>\n<table border=\"1\" class=\"dataframe\">\n  <thead>\n    <tr style=\"text-align: right;\">\n      <th></th>\n      <th>movie_id</th>\n      <th>name</th>\n      <th>category</th>\n    </tr>\n  </thead>\n  <tbody>\n    <tr>\n      <th>0</th>\n      <td>0.0</td>\n      <td>Toy Story (1995)</td>\n      <td>Animation|Children's|Comedy</td>\n    </tr>\n  </tbody>\n</table>\n</div>"
     },
     "execution_count": 94,
     "metadata": {},
     "output_type": "execute_result"
    }
   ],
   "source": [
    "test_movie_id = movie_to_id[1]\n",
    "movie_info[movie_info['movie_id'] == test_movie_id]"
   ],
   "metadata": {
    "collapsed": false,
    "pycharm": {
     "name": "#%%\n"
    }
   }
  },
  {
   "cell_type": "code",
   "execution_count": 95,
   "outputs": [
    {
     "data": {
      "text/plain": "                                    name  \\\nmovie_id                                   \n0.0                     Toy Story (1995)   \n2898.0                Toy Story 2 (1999)   \n2162.0              Bug's Life, A (1998)   \n1439.0                   Hercules (1997)   \n3061.0          Tigger Movie, The (2000)   \n1909.0              Rescuers, The (1977)   \n1876.0    Incredible Journey, The (1963)   \n1727.0                      Mulan (1998)   \n959.0       Three Caballeros, The (1945)   \n1375.0           Cats Don't Dance (1997)   \n\n                                               category  \nmovie_id                                                 \n0.0                         Animation|Children's|Comedy  \n2898.0                      Animation|Children's|Comedy  \n2162.0                      Animation|Children's|Comedy  \n1439.0    Adventure|Animation|Children's|Comedy|Musical  \n3061.0                             Animation|Children's  \n1909.0                             Animation|Children's  \n1876.0                             Adventure|Children's  \n1727.0                             Animation|Children's  \n959.0                      Animation|Children's|Musical  \n1375.0                     Animation|Children's|Musical  ",
      "text/html": "<div>\n<style scoped>\n    .dataframe tbody tr th:only-of-type {\n        vertical-align: middle;\n    }\n\n    .dataframe tbody tr th {\n        vertical-align: top;\n    }\n\n    .dataframe thead th {\n        text-align: right;\n    }\n</style>\n<table border=\"1\" class=\"dataframe\">\n  <thead>\n    <tr style=\"text-align: right;\">\n      <th></th>\n      <th>name</th>\n      <th>category</th>\n    </tr>\n    <tr>\n      <th>movie_id</th>\n      <th></th>\n      <th></th>\n    </tr>\n  </thead>\n  <tbody>\n    <tr>\n      <th>0.0</th>\n      <td>Toy Story (1995)</td>\n      <td>Animation|Children's|Comedy</td>\n    </tr>\n    <tr>\n      <th>2898.0</th>\n      <td>Toy Story 2 (1999)</td>\n      <td>Animation|Children's|Comedy</td>\n    </tr>\n    <tr>\n      <th>2162.0</th>\n      <td>Bug's Life, A (1998)</td>\n      <td>Animation|Children's|Comedy</td>\n    </tr>\n    <tr>\n      <th>1439.0</th>\n      <td>Hercules (1997)</td>\n      <td>Adventure|Animation|Children's|Comedy|Musical</td>\n    </tr>\n    <tr>\n      <th>3061.0</th>\n      <td>Tigger Movie, The (2000)</td>\n      <td>Animation|Children's</td>\n    </tr>\n    <tr>\n      <th>1909.0</th>\n      <td>Rescuers, The (1977)</td>\n      <td>Animation|Children's</td>\n    </tr>\n    <tr>\n      <th>1876.0</th>\n      <td>Incredible Journey, The (1963)</td>\n      <td>Adventure|Children's</td>\n    </tr>\n    <tr>\n      <th>1727.0</th>\n      <td>Mulan (1998)</td>\n      <td>Animation|Children's</td>\n    </tr>\n    <tr>\n      <th>959.0</th>\n      <td>Three Caballeros, The (1945)</td>\n      <td>Animation|Children's|Musical</td>\n    </tr>\n    <tr>\n      <th>1375.0</th>\n      <td>Cats Don't Dance (1997)</td>\n      <td>Animation|Children's|Musical</td>\n    </tr>\n  </tbody>\n</table>\n</div>"
     },
     "execution_count": 95,
     "metadata": {},
     "output_type": "execute_result"
    }
   ],
   "source": [
    "similiars = svd.similar_items(test_movie_id)\n",
    "movie_info.set_index('movie_id').loc[similiars, :]"
   ],
   "metadata": {
    "collapsed": false,
    "pycharm": {
     "name": "#%%\n"
    }
   }
  },
  {
   "cell_type": "markdown",
   "source": [
    "В качестве тестирования рекомендация для пользователя будем рассматривать пользователя из примера у которого был id = 4"
   ],
   "metadata": {
    "collapsed": false
   }
  },
  {
   "cell_type": "code",
   "execution_count": 96,
   "outputs": [],
   "source": [
    "test_user_id = user_to_id[4]"
   ],
   "metadata": {
    "collapsed": false,
    "pycharm": {
     "name": "#%%\n"
    }
   }
  },
  {
   "cell_type": "code",
   "execution_count": 97,
   "outputs": [
    {
     "data": {
      "text/plain": "                                                       name  \\\nmovie_id                                                      \n1117.0                         To Kill a Mockingbird (1962)   \n2698.0                                       Sanjuro (1962)   \n802.0                                 Godfather, The (1972)   \n1839.0    Seven Samurai (The Magnificent Seven) (Shichin...   \n861.0         Sunset Blvd. (a.k.a. Sunset Boulevard) (1950)   \n1113.0                                  12 Angry Men (1957)   \n843.0                                    Rear Window (1954)   \n309.0                      Shawshank Redemption, The (1994)   \n1848.0                           Saving Private Ryan (1998)   \n2816.0                                       Yojimbo (1961)   \n\n                      category  \nmovie_id                        \n1117.0                   Drama  \n2698.0        Action|Adventure  \n802.0       Action|Crime|Drama  \n1839.0            Action|Drama  \n861.0                Film-Noir  \n1113.0                   Drama  \n843.0         Mystery|Thriller  \n309.0                    Drama  \n1848.0        Action|Drama|War  \n2816.0    Comedy|Drama|Western  ",
      "text/html": "<div>\n<style scoped>\n    .dataframe tbody tr th:only-of-type {\n        vertical-align: middle;\n    }\n\n    .dataframe tbody tr th {\n        vertical-align: top;\n    }\n\n    .dataframe thead th {\n        text-align: right;\n    }\n</style>\n<table border=\"1\" class=\"dataframe\">\n  <thead>\n    <tr style=\"text-align: right;\">\n      <th></th>\n      <th>name</th>\n      <th>category</th>\n    </tr>\n    <tr>\n      <th>movie_id</th>\n      <th></th>\n      <th></th>\n    </tr>\n  </thead>\n  <tbody>\n    <tr>\n      <th>1117.0</th>\n      <td>To Kill a Mockingbird (1962)</td>\n      <td>Drama</td>\n    </tr>\n    <tr>\n      <th>2698.0</th>\n      <td>Sanjuro (1962)</td>\n      <td>Action|Adventure</td>\n    </tr>\n    <tr>\n      <th>802.0</th>\n      <td>Godfather, The (1972)</td>\n      <td>Action|Crime|Drama</td>\n    </tr>\n    <tr>\n      <th>1839.0</th>\n      <td>Seven Samurai (The Magnificent Seven) (Shichin...</td>\n      <td>Action|Drama</td>\n    </tr>\n    <tr>\n      <th>861.0</th>\n      <td>Sunset Blvd. (a.k.a. Sunset Boulevard) (1950)</td>\n      <td>Film-Noir</td>\n    </tr>\n    <tr>\n      <th>1113.0</th>\n      <td>12 Angry Men (1957)</td>\n      <td>Drama</td>\n    </tr>\n    <tr>\n      <th>843.0</th>\n      <td>Rear Window (1954)</td>\n      <td>Mystery|Thriller</td>\n    </tr>\n    <tr>\n      <th>309.0</th>\n      <td>Shawshank Redemption, The (1994)</td>\n      <td>Drama</td>\n    </tr>\n    <tr>\n      <th>1848.0</th>\n      <td>Saving Private Ryan (1998)</td>\n      <td>Action|Drama|War</td>\n    </tr>\n    <tr>\n      <th>2816.0</th>\n      <td>Yojimbo (1961)</td>\n      <td>Comedy|Drama|Western</td>\n    </tr>\n  </tbody>\n</table>\n</div>"
     },
     "execution_count": 97,
     "metadata": {},
     "output_type": "execute_result"
    }
   ],
   "source": [
    "recommendations = svd.recommend(test_user_id, user_item_csr)\n",
    "movie_info.set_index('movie_id').loc[recommendations, :]"
   ],
   "metadata": {
    "collapsed": false,
    "pycharm": {
     "name": "#%%\n"
    }
   }
  },
  {
   "cell_type": "markdown",
   "source": [
    "### Задание 2. Не использую готовые решения, реализовать матричное разложение используя ALS на implicit данных"
   ],
   "metadata": {
    "collapsed": false
   }
  },
  {
   "cell_type": "markdown",
   "source": [
    "#### Data preprocessing\n",
    "\n",
    "Подготовим implicit данные также, как мы подготовили explicit данные в предыдущем пункте"
   ],
   "metadata": {
    "collapsed": false
   }
  },
  {
   "cell_type": "code",
   "execution_count": 98,
   "outputs": [
    {
     "data": {
      "text/plain": "<6040x3706 sparse matrix of type '<class 'numpy.int64'>'\n\twith 575281 stored elements in Compressed Sparse Row format>"
     },
     "execution_count": 98,
     "metadata": {},
     "output_type": "execute_result"
    }
   ],
   "source": [
    "users = [user_to_id[user] for user in implicit_ratings['user_id']]\n",
    "movies = [movie_to_id[movie] for movie in implicit_ratings['movie_id']]\n",
    "user_item = sp.coo_matrix((np.ones_like(users), (users, movies)))\n",
    "user_item_t_csr = user_item.T.tocsr()\n",
    "user_item_csr = user_item.tocsr()\n",
    "user_item_csr"
   ],
   "metadata": {
    "collapsed": false,
    "pycharm": {
     "name": "#%%\n"
    }
   }
  },
  {
   "cell_type": "code",
   "execution_count": 99,
   "outputs": [],
   "source": [
    "class ALS(Recommender):\n",
    "    def __init__(self, features_dim = 64, lambda_reg = 0.01, iterations = 5, alpha = 10):\n",
    "        super().__init__(features_dim, lambda_reg)\n",
    "        self.iterations = iterations\n",
    "        self.alpha = alpha\n",
    "\n",
    "    def fit(self, X_csr):\n",
    "        super().prepare_fit(X_csr)\n",
    "        pbar = tqdm(range(self.iterations))\n",
    "        reg_matrix = self.lambda_reg * np.eye(self.features_dim)\n",
    "        for _ in pbar:\n",
    "            Ht = self.H.T\n",
    "            Ht_H = Ht @ self.H\n",
    "            for w_id in range(self.width):\n",
    "                p_u = self.data[w_id, :]\n",
    "                C_u = sp.diags(1 + self.alpha * p_u)\n",
    "                modification = Ht_H + Ht @ (C_u - sp.identity(self.height)) @ self.H\n",
    "                left_inv_part = np.linalg.inv(modification + reg_matrix)\n",
    "                self.W[w_id] = left_inv_part @ Ht @ C_u @ p_u\n",
    "\n",
    "            Wt = self.W.T\n",
    "            Wt_W = self.W.T @ self.W\n",
    "            for h_id in range(self.height):\n",
    "                p_i = self.data[:, h_id]\n",
    "                C_i = sp.diags(1 + self.alpha * p_i)\n",
    "                modification = Wt_W + Wt @ (C_i - sp.identity(self.width)) @ self.W\n",
    "                left_inv_part = np.linalg.inv(modification + reg_matrix)\n",
    "                self.H[h_id] = left_inv_part @ Wt @ C_i @ p_i\n",
    "\n",
    "            predictions = self.W @ self.H.T\n",
    "            rmse = np.sqrt(np.mean((predictions[self.nonzero] - X_csr.data) ** 2))\n",
    "            pbar.set_description(\"RMSE: %f\" % rmse)"
   ],
   "metadata": {
    "collapsed": false,
    "pycharm": {
     "name": "#%%\n"
    }
   }
  },
  {
   "cell_type": "code",
   "execution_count": 100,
   "outputs": [
    {
     "name": "stderr",
     "output_type": "stream",
     "text": [
      "RMSE: 0.303626: 100%|██████████| 5/5 [03:05<00:00, 37.11s/it]\n"
     ]
    }
   ],
   "source": [
    "als = ALS()\n",
    "als.fit(user_item_csr)"
   ],
   "metadata": {
    "collapsed": false,
    "pycharm": {
     "name": "#%%\n"
    }
   }
  },
  {
   "cell_type": "code",
   "execution_count": 101,
   "outputs": [
    {
     "data": {
      "text/plain": "                                 name                             category\nmovie_id                                                                  \n0.0                  Toy Story (1995)          Animation|Children's|Comedy\n2898.0             Toy Story 2 (1999)          Animation|Children's|Comedy\n2162.0           Bug's Life, A (1998)          Animation|Children's|Comedy\n574.0                  Aladdin (1992)  Animation|Children's|Comedy|Musical\n1173.0           Groundhog Day (1993)                       Comedy|Romance\n581.0     Beauty and the Beast (1991)         Animation|Children's|Musical\n2128.0           Pleasantville (1998)                               Comedy\n33.0                      Babe (1995)              Children's|Comedy|Drama\n354.0           Lion King, The (1994)         Animation|Children's|Musical\n2203.0     Shakespeare in Love (1998)                       Comedy|Romance",
      "text/html": "<div>\n<style scoped>\n    .dataframe tbody tr th:only-of-type {\n        vertical-align: middle;\n    }\n\n    .dataframe tbody tr th {\n        vertical-align: top;\n    }\n\n    .dataframe thead th {\n        text-align: right;\n    }\n</style>\n<table border=\"1\" class=\"dataframe\">\n  <thead>\n    <tr style=\"text-align: right;\">\n      <th></th>\n      <th>name</th>\n      <th>category</th>\n    </tr>\n    <tr>\n      <th>movie_id</th>\n      <th></th>\n      <th></th>\n    </tr>\n  </thead>\n  <tbody>\n    <tr>\n      <th>0.0</th>\n      <td>Toy Story (1995)</td>\n      <td>Animation|Children's|Comedy</td>\n    </tr>\n    <tr>\n      <th>2898.0</th>\n      <td>Toy Story 2 (1999)</td>\n      <td>Animation|Children's|Comedy</td>\n    </tr>\n    <tr>\n      <th>2162.0</th>\n      <td>Bug's Life, A (1998)</td>\n      <td>Animation|Children's|Comedy</td>\n    </tr>\n    <tr>\n      <th>574.0</th>\n      <td>Aladdin (1992)</td>\n      <td>Animation|Children's|Comedy|Musical</td>\n    </tr>\n    <tr>\n      <th>1173.0</th>\n      <td>Groundhog Day (1993)</td>\n      <td>Comedy|Romance</td>\n    </tr>\n    <tr>\n      <th>581.0</th>\n      <td>Beauty and the Beast (1991)</td>\n      <td>Animation|Children's|Musical</td>\n    </tr>\n    <tr>\n      <th>2128.0</th>\n      <td>Pleasantville (1998)</td>\n      <td>Comedy</td>\n    </tr>\n    <tr>\n      <th>33.0</th>\n      <td>Babe (1995)</td>\n      <td>Children's|Comedy|Drama</td>\n    </tr>\n    <tr>\n      <th>354.0</th>\n      <td>Lion King, The (1994)</td>\n      <td>Animation|Children's|Musical</td>\n    </tr>\n    <tr>\n      <th>2203.0</th>\n      <td>Shakespeare in Love (1998)</td>\n      <td>Comedy|Romance</td>\n    </tr>\n  </tbody>\n</table>\n</div>"
     },
     "execution_count": 101,
     "metadata": {},
     "output_type": "execute_result"
    }
   ],
   "source": [
    "similiars = als.similar_items(test_movie_id)\n",
    "movie_info.set_index('movie_id').loc[similiars, :]"
   ],
   "metadata": {
    "collapsed": false,
    "pycharm": {
     "name": "#%%\n"
    }
   }
  },
  {
   "cell_type": "code",
   "execution_count": 102,
   "outputs": [
    {
     "data": {
      "text/plain": "                                                       name  \\\nmovie_id                                                      \n1106.0    Star Wars: Episode V - The Empire Strikes Back...   \n575.0                     Terminator 2: Judgment Day (1991)   \n2374.0                                   Matrix, The (1999)   \n1110.0                                        Aliens (1986)   \n1120.0    Star Wars: Episode VI - Return of the Jedi (1983)   \n443.0                                  Fugitive, The (1993)   \n1199.0            Indiana Jones and the Last Crusade (1989)   \n106.0                                     Braveheart (1995)   \n2334.0                            Planet of the Apes (1968)   \n2708.0                                  Total Recall (1990)   \n\n                                     category  \nmovie_id                                       \n1106.0      Action|Adventure|Drama|Sci-Fi|War  \n575.0                  Action|Sci-Fi|Thriller  \n2374.0                 Action|Sci-Fi|Thriller  \n1110.0             Action|Sci-Fi|Thriller|War  \n1120.0    Action|Adventure|Romance|Sci-Fi|War  \n443.0                         Action|Thriller  \n1199.0                       Action|Adventure  \n106.0                        Action|Drama|War  \n2334.0                          Action|Sci-Fi  \n2708.0       Action|Adventure|Sci-Fi|Thriller  ",
      "text/html": "<div>\n<style scoped>\n    .dataframe tbody tr th:only-of-type {\n        vertical-align: middle;\n    }\n\n    .dataframe tbody tr th {\n        vertical-align: top;\n    }\n\n    .dataframe thead th {\n        text-align: right;\n    }\n</style>\n<table border=\"1\" class=\"dataframe\">\n  <thead>\n    <tr style=\"text-align: right;\">\n      <th></th>\n      <th>name</th>\n      <th>category</th>\n    </tr>\n    <tr>\n      <th>movie_id</th>\n      <th></th>\n      <th></th>\n    </tr>\n  </thead>\n  <tbody>\n    <tr>\n      <th>1106.0</th>\n      <td>Star Wars: Episode V - The Empire Strikes Back...</td>\n      <td>Action|Adventure|Drama|Sci-Fi|War</td>\n    </tr>\n    <tr>\n      <th>575.0</th>\n      <td>Terminator 2: Judgment Day (1991)</td>\n      <td>Action|Sci-Fi|Thriller</td>\n    </tr>\n    <tr>\n      <th>2374.0</th>\n      <td>Matrix, The (1999)</td>\n      <td>Action|Sci-Fi|Thriller</td>\n    </tr>\n    <tr>\n      <th>1110.0</th>\n      <td>Aliens (1986)</td>\n      <td>Action|Sci-Fi|Thriller|War</td>\n    </tr>\n    <tr>\n      <th>1120.0</th>\n      <td>Star Wars: Episode VI - Return of the Jedi (1983)</td>\n      <td>Action|Adventure|Romance|Sci-Fi|War</td>\n    </tr>\n    <tr>\n      <th>443.0</th>\n      <td>Fugitive, The (1993)</td>\n      <td>Action|Thriller</td>\n    </tr>\n    <tr>\n      <th>1199.0</th>\n      <td>Indiana Jones and the Last Crusade (1989)</td>\n      <td>Action|Adventure</td>\n    </tr>\n    <tr>\n      <th>106.0</th>\n      <td>Braveheart (1995)</td>\n      <td>Action|Drama|War</td>\n    </tr>\n    <tr>\n      <th>2334.0</th>\n      <td>Planet of the Apes (1968)</td>\n      <td>Action|Sci-Fi</td>\n    </tr>\n    <tr>\n      <th>2708.0</th>\n      <td>Total Recall (1990)</td>\n      <td>Action|Adventure|Sci-Fi|Thriller</td>\n    </tr>\n  </tbody>\n</table>\n</div>"
     },
     "execution_count": 102,
     "metadata": {},
     "output_type": "execute_result"
    }
   ],
   "source": [
    "recommendations = als.recommend(test_user_id, user_item_csr)\n",
    "movie_info.set_index('movie_id').loc[recommendations, :]"
   ],
   "metadata": {
    "collapsed": false,
    "pycharm": {
     "name": "#%%\n"
    }
   }
  },
  {
   "cell_type": "markdown",
   "source": [
    "### Задание 3. Не использую готовые решения, реализовать матричное разложение BPR на implicit данных"
   ],
   "metadata": {
    "collapsed": false
   }
  },
  {
   "cell_type": "code",
   "execution_count": 103,
   "outputs": [],
   "source": [
    "from sklearn.metrics import roc_auc_score\n",
    "\n",
    "\n",
    "class BPR(Recommender):\n",
    "    def __init__(self, features_dim = 64, learning_rate = 0.03, lambda_reg = 0.00001, iterations = 10, seed = 42):\n",
    "        super().__init__(features_dim, lambda_reg)\n",
    "        self.learning_rate = learning_rate\n",
    "        self.iterations = iterations\n",
    "        self.h_negatives = None\n",
    "        np.random.seed(seed)\n",
    "\n",
    "    def fit(self, X_csr):\n",
    "        super().prepare_fit(X_csr)\n",
    "        Ds = [(w_id, h_id) for w_id, h_id in zip(self.nonzero[0], self.nonzero[1])]\n",
    "\n",
    "        indices = [i for i in range(self.height)]\n",
    "        self.h_negatives = dict([(w_id,np.array(list(set(indices) - set(X_csr[w_id, :].indices)))) for w_id in range(self.width)])\n",
    "\n",
    "        pbar = tqdm(range(self.iterations))\n",
    "        for _ in pbar:\n",
    "            np.random.shuffle(Ds)\n",
    "            for w_id, i in Ds:\n",
    "                j, coef = self.get_second_index(w_id, i)\n",
    "\n",
    "                self.W[w_id] += self.learning_rate * (coef * (self.H[i] - self.H[j]) + self.lambda_reg * self.W[w_id])\n",
    "                self.H[i] += self.learning_rate * (coef * self.W[w_id] + self.lambda_reg * self.H[i])\n",
    "                self.H[j] += self.learning_rate * (coef * -self.W[w_id] + self.lambda_reg * self.H[j])\n",
    "\n",
    "            pbar.set_description(\"AUC: %f\" % self.auc_score(X_csr))\n",
    "\n",
    "    def get_second_index(self, w_id, i):\n",
    "        j = np.random.choice(self.h_negatives[w_id])\n",
    "        cur_r = (self.W[w_id] @ self.H[i]) - (self.W[w_id] @ self.H[j])\n",
    "        coef = np.exp(-cur_r) / (1 + np.exp(-cur_r))\n",
    "        return j, coef\n",
    "\n",
    "    def auc_score(self, X_csr):\n",
    "        full_auc = 0.0\n",
    "        for w_id in range(self.width):\n",
    "            y_pred = self.W[w_id] @ self.H.T\n",
    "            y_true = np.zeros(self.height)\n",
    "            y_true[X_csr[w_id, :].indices] = 1\n",
    "            try:\n",
    "                full_auc += roc_auc_score(y_true, y_pred)\n",
    "            except ValueError: # if only one class present in y_true\n",
    "                pass\n",
    "        return full_auc / self.width"
   ],
   "metadata": {
    "collapsed": false,
    "pycharm": {
     "name": "#%%\n"
    }
   }
  },
  {
   "cell_type": "code",
   "execution_count": 104,
   "outputs": [
    {
     "name": "stderr",
     "output_type": "stream",
     "text": [
      "AUC: 0.928616: 100%|██████████| 10/10 [05:06<00:00, 30.61s/it]\n"
     ]
    }
   ],
   "source": [
    "bpr = BPR()\n",
    "bpr.fit(user_item_csr)"
   ],
   "metadata": {
    "collapsed": false,
    "pycharm": {
     "name": "#%%\n"
    }
   }
  },
  {
   "cell_type": "code",
   "execution_count": 105,
   "outputs": [
    {
     "data": {
      "text/plain": "                                       name  \\\nmovie_id                                      \n0.0                        Toy Story (1995)   \n1107.0           Princess Bride, The (1987)   \n2162.0                 Bug's Life, A (1998)   \n2898.0                   Toy Story 2 (1999)   \n1025.0    E.T. the Extra-Terrestrial (1982)   \n33.0                            Babe (1995)   \n2775.0      Who Framed Roger Rabbit? (1988)   \n574.0                        Aladdin (1992)   \n1178.0            Back to the Future (1985)   \n1173.0                 Groundhog Day (1993)   \n\n                                     category  \nmovie_id                                       \n0.0               Animation|Children's|Comedy  \n1107.0        Action|Adventure|Comedy|Romance  \n2162.0            Animation|Children's|Comedy  \n2898.0            Animation|Children's|Comedy  \n1025.0        Children's|Drama|Fantasy|Sci-Fi  \n33.0                  Children's|Comedy|Drama  \n2775.0          Adventure|Animation|Film-Noir  \n574.0     Animation|Children's|Comedy|Musical  \n1178.0                          Comedy|Sci-Fi  \n1173.0                         Comedy|Romance  ",
      "text/html": "<div>\n<style scoped>\n    .dataframe tbody tr th:only-of-type {\n        vertical-align: middle;\n    }\n\n    .dataframe tbody tr th {\n        vertical-align: top;\n    }\n\n    .dataframe thead th {\n        text-align: right;\n    }\n</style>\n<table border=\"1\" class=\"dataframe\">\n  <thead>\n    <tr style=\"text-align: right;\">\n      <th></th>\n      <th>name</th>\n      <th>category</th>\n    </tr>\n    <tr>\n      <th>movie_id</th>\n      <th></th>\n      <th></th>\n    </tr>\n  </thead>\n  <tbody>\n    <tr>\n      <th>0.0</th>\n      <td>Toy Story (1995)</td>\n      <td>Animation|Children's|Comedy</td>\n    </tr>\n    <tr>\n      <th>1107.0</th>\n      <td>Princess Bride, The (1987)</td>\n      <td>Action|Adventure|Comedy|Romance</td>\n    </tr>\n    <tr>\n      <th>2162.0</th>\n      <td>Bug's Life, A (1998)</td>\n      <td>Animation|Children's|Comedy</td>\n    </tr>\n    <tr>\n      <th>2898.0</th>\n      <td>Toy Story 2 (1999)</td>\n      <td>Animation|Children's|Comedy</td>\n    </tr>\n    <tr>\n      <th>1025.0</th>\n      <td>E.T. the Extra-Terrestrial (1982)</td>\n      <td>Children's|Drama|Fantasy|Sci-Fi</td>\n    </tr>\n    <tr>\n      <th>33.0</th>\n      <td>Babe (1995)</td>\n      <td>Children's|Comedy|Drama</td>\n    </tr>\n    <tr>\n      <th>2775.0</th>\n      <td>Who Framed Roger Rabbit? (1988)</td>\n      <td>Adventure|Animation|Film-Noir</td>\n    </tr>\n    <tr>\n      <th>574.0</th>\n      <td>Aladdin (1992)</td>\n      <td>Animation|Children's|Comedy|Musical</td>\n    </tr>\n    <tr>\n      <th>1178.0</th>\n      <td>Back to the Future (1985)</td>\n      <td>Comedy|Sci-Fi</td>\n    </tr>\n    <tr>\n      <th>1173.0</th>\n      <td>Groundhog Day (1993)</td>\n      <td>Comedy|Romance</td>\n    </tr>\n  </tbody>\n</table>\n</div>"
     },
     "execution_count": 105,
     "metadata": {},
     "output_type": "execute_result"
    }
   ],
   "source": [
    "similiars = bpr.similar_items(test_movie_id)\n",
    "movie_info.set_index('movie_id').loc[similiars, :]"
   ],
   "metadata": {
    "collapsed": false,
    "pycharm": {
     "name": "#%%\n"
    }
   }
  },
  {
   "cell_type": "code",
   "execution_count": 106,
   "outputs": [
    {
     "data": {
      "text/plain": "                                                       name  \\\nmovie_id                                                      \n1106.0    Star Wars: Episode V - The Empire Strikes Back...   \n2651.0                               American Beauty (1999)   \n2374.0                                   Matrix, The (1999)   \n575.0                     Terminator 2: Judgment Day (1991)   \n579.0                      Silence of the Lambs, The (1991)   \n1485.0                             L.A. Confidential (1997)   \n802.0                                 Godfather, The (1972)   \n309.0                      Shawshank Redemption, The (1994)   \n1107.0                           Princess Bride, The (1987)   \n1120.0    Star Wars: Episode VI - Return of the Jedi (1983)   \n\n                                     category  \nmovie_id                                       \n1106.0      Action|Adventure|Drama|Sci-Fi|War  \n2651.0                           Comedy|Drama  \n2374.0                 Action|Sci-Fi|Thriller  \n575.0                  Action|Sci-Fi|Thriller  \n579.0                          Drama|Thriller  \n1485.0       Crime|Film-Noir|Mystery|Thriller  \n802.0                      Action|Crime|Drama  \n309.0                                   Drama  \n1107.0        Action|Adventure|Comedy|Romance  \n1120.0    Action|Adventure|Romance|Sci-Fi|War  ",
      "text/html": "<div>\n<style scoped>\n    .dataframe tbody tr th:only-of-type {\n        vertical-align: middle;\n    }\n\n    .dataframe tbody tr th {\n        vertical-align: top;\n    }\n\n    .dataframe thead th {\n        text-align: right;\n    }\n</style>\n<table border=\"1\" class=\"dataframe\">\n  <thead>\n    <tr style=\"text-align: right;\">\n      <th></th>\n      <th>name</th>\n      <th>category</th>\n    </tr>\n    <tr>\n      <th>movie_id</th>\n      <th></th>\n      <th></th>\n    </tr>\n  </thead>\n  <tbody>\n    <tr>\n      <th>1106.0</th>\n      <td>Star Wars: Episode V - The Empire Strikes Back...</td>\n      <td>Action|Adventure|Drama|Sci-Fi|War</td>\n    </tr>\n    <tr>\n      <th>2651.0</th>\n      <td>American Beauty (1999)</td>\n      <td>Comedy|Drama</td>\n    </tr>\n    <tr>\n      <th>2374.0</th>\n      <td>Matrix, The (1999)</td>\n      <td>Action|Sci-Fi|Thriller</td>\n    </tr>\n    <tr>\n      <th>575.0</th>\n      <td>Terminator 2: Judgment Day (1991)</td>\n      <td>Action|Sci-Fi|Thriller</td>\n    </tr>\n    <tr>\n      <th>579.0</th>\n      <td>Silence of the Lambs, The (1991)</td>\n      <td>Drama|Thriller</td>\n    </tr>\n    <tr>\n      <th>1485.0</th>\n      <td>L.A. Confidential (1997)</td>\n      <td>Crime|Film-Noir|Mystery|Thriller</td>\n    </tr>\n    <tr>\n      <th>802.0</th>\n      <td>Godfather, The (1972)</td>\n      <td>Action|Crime|Drama</td>\n    </tr>\n    <tr>\n      <th>309.0</th>\n      <td>Shawshank Redemption, The (1994)</td>\n      <td>Drama</td>\n    </tr>\n    <tr>\n      <th>1107.0</th>\n      <td>Princess Bride, The (1987)</td>\n      <td>Action|Adventure|Comedy|Romance</td>\n    </tr>\n    <tr>\n      <th>1120.0</th>\n      <td>Star Wars: Episode VI - Return of the Jedi (1983)</td>\n      <td>Action|Adventure|Romance|Sci-Fi|War</td>\n    </tr>\n  </tbody>\n</table>\n</div>"
     },
     "execution_count": 106,
     "metadata": {},
     "output_type": "execute_result"
    }
   ],
   "source": [
    "recommendations = bpr.recommend(test_user_id, user_item_csr)\n",
    "movie_info.set_index('movie_id').loc[recommendations, :]"
   ],
   "metadata": {
    "collapsed": false,
    "pycharm": {
     "name": "#%%\n"
    }
   }
  },
  {
   "cell_type": "markdown",
   "source": [
    "### Задание 4. Не использую готовые решения, реализовать матричное разложение WARP на implicit данных"
   ],
   "metadata": {
    "collapsed": false
   }
  },
  {
   "cell_type": "code",
   "execution_count": 107,
   "outputs": [],
   "source": [
    "class WARP(BPR):\n",
    "    def __init__(self, features_dim = 64, learning_rate = 0.03, lambda_reg = 0.00001, iterations = 10, seed = 42, eps = 1, samples = 10):\n",
    "        super().__init__(features_dim, learning_rate, lambda_reg, iterations, seed)\n",
    "        self.eps = eps\n",
    "        self.samples = samples\n",
    "\n",
    "    def get_second_index(self, w_id, i):\n",
    "        score_i = self.W[w_id] @ self.H[i]\n",
    "        j, score_j = None, None\n",
    "        for n in range(1, self.samples):\n",
    "            j = np.random.choice(self.h_negatives[w_id])\n",
    "            score_j = self.W[w_id] @ self.H[j]\n",
    "            if score_j - self.eps > score_i:\n",
    "                cur_r = score_i - score_j\n",
    "                coef = np.exp(-cur_r) / (1 + np.exp(-cur_r))\n",
    "                return j, coef * np.log(self.samples / n)\n",
    "        cur_r = score_i - score_j\n",
    "        return j, np.exp(-cur_r) / (1 + np.exp(-cur_r))"
   ],
   "metadata": {
    "collapsed": false,
    "pycharm": {
     "name": "#%%\n"
    }
   }
  },
  {
   "cell_type": "code",
   "execution_count": 108,
   "outputs": [
    {
     "name": "stderr",
     "output_type": "stream",
     "text": [
      "AUC: 0.953620: 100%|██████████| 10/10 [12:30<00:00, 75.08s/it]\n"
     ]
    }
   ],
   "source": [
    "warp = WARP()\n",
    "warp.fit(user_item_csr)"
   ],
   "metadata": {
    "collapsed": false,
    "pycharm": {
     "name": "#%%\n"
    }
   }
  },
  {
   "cell_type": "code",
   "execution_count": 109,
   "outputs": [
    {
     "data": {
      "text/plain": "                                      name  \\\nmovie_id                                     \n0.0                       Toy Story (1995)   \n2162.0                Bug's Life, A (1998)   \n574.0                       Aladdin (1992)   \n2556.0              Iron Giant, The (1999)   \n2483.0                       Tarzan (1999)   \n2898.0                  Toy Story 2 (1999)   \n2102.0                         Antz (1998)   \n639.0     James and the Giant Peach (1996)   \n581.0          Beauty and the Beast (1991)   \n1727.0                        Mulan (1998)   \n\n                                     category  \nmovie_id                                       \n0.0               Animation|Children's|Comedy  \n2162.0            Animation|Children's|Comedy  \n574.0     Animation|Children's|Comedy|Musical  \n2556.0                   Animation|Children's  \n2483.0                   Animation|Children's  \n2898.0            Animation|Children's|Comedy  \n2102.0                   Animation|Children's  \n639.0            Animation|Children's|Musical  \n581.0            Animation|Children's|Musical  \n1727.0                   Animation|Children's  ",
      "text/html": "<div>\n<style scoped>\n    .dataframe tbody tr th:only-of-type {\n        vertical-align: middle;\n    }\n\n    .dataframe tbody tr th {\n        vertical-align: top;\n    }\n\n    .dataframe thead th {\n        text-align: right;\n    }\n</style>\n<table border=\"1\" class=\"dataframe\">\n  <thead>\n    <tr style=\"text-align: right;\">\n      <th></th>\n      <th>name</th>\n      <th>category</th>\n    </tr>\n    <tr>\n      <th>movie_id</th>\n      <th></th>\n      <th></th>\n    </tr>\n  </thead>\n  <tbody>\n    <tr>\n      <th>0.0</th>\n      <td>Toy Story (1995)</td>\n      <td>Animation|Children's|Comedy</td>\n    </tr>\n    <tr>\n      <th>2162.0</th>\n      <td>Bug's Life, A (1998)</td>\n      <td>Animation|Children's|Comedy</td>\n    </tr>\n    <tr>\n      <th>574.0</th>\n      <td>Aladdin (1992)</td>\n      <td>Animation|Children's|Comedy|Musical</td>\n    </tr>\n    <tr>\n      <th>2556.0</th>\n      <td>Iron Giant, The (1999)</td>\n      <td>Animation|Children's</td>\n    </tr>\n    <tr>\n      <th>2483.0</th>\n      <td>Tarzan (1999)</td>\n      <td>Animation|Children's</td>\n    </tr>\n    <tr>\n      <th>2898.0</th>\n      <td>Toy Story 2 (1999)</td>\n      <td>Animation|Children's|Comedy</td>\n    </tr>\n    <tr>\n      <th>2102.0</th>\n      <td>Antz (1998)</td>\n      <td>Animation|Children's</td>\n    </tr>\n    <tr>\n      <th>639.0</th>\n      <td>James and the Giant Peach (1996)</td>\n      <td>Animation|Children's|Musical</td>\n    </tr>\n    <tr>\n      <th>581.0</th>\n      <td>Beauty and the Beast (1991)</td>\n      <td>Animation|Children's|Musical</td>\n    </tr>\n    <tr>\n      <th>1727.0</th>\n      <td>Mulan (1998)</td>\n      <td>Animation|Children's</td>\n    </tr>\n  </tbody>\n</table>\n</div>"
     },
     "execution_count": 109,
     "metadata": {},
     "output_type": "execute_result"
    }
   ],
   "source": [
    "similiars = warp.similar_items(test_movie_id)\n",
    "movie_info.set_index('movie_id').loc[similiars, :]"
   ],
   "metadata": {
    "collapsed": false,
    "pycharm": {
     "name": "#%%\n"
    }
   }
  },
  {
   "cell_type": "code",
   "execution_count": 110,
   "outputs": [
    {
     "data": {
      "text/plain": "                                                       name  \\\nmovie_id                                                      \n1485.0                             L.A. Confidential (1997)   \n1106.0    Star Wars: Episode V - The Empire Strikes Back...   \n1120.0    Star Wars: Episode VI - Return of the Jedi (1983)   \n575.0                     Terminator 2: Judgment Day (1991)   \n1110.0                                        Aliens (1986)   \n593.0                                          Fargo (1996)   \n2651.0                               American Beauty (1999)   \n106.0                                     Braveheart (1995)   \n287.0                                   Pulp Fiction (1994)   \n579.0                      Silence of the Lambs, The (1991)   \n\n                                     category  \nmovie_id                                       \n1485.0       Crime|Film-Noir|Mystery|Thriller  \n1106.0      Action|Adventure|Drama|Sci-Fi|War  \n1120.0    Action|Adventure|Romance|Sci-Fi|War  \n575.0                  Action|Sci-Fi|Thriller  \n1110.0             Action|Sci-Fi|Thriller|War  \n593.0                    Crime|Drama|Thriller  \n2651.0                           Comedy|Drama  \n106.0                        Action|Drama|War  \n287.0                             Crime|Drama  \n579.0                          Drama|Thriller  ",
      "text/html": "<div>\n<style scoped>\n    .dataframe tbody tr th:only-of-type {\n        vertical-align: middle;\n    }\n\n    .dataframe tbody tr th {\n        vertical-align: top;\n    }\n\n    .dataframe thead th {\n        text-align: right;\n    }\n</style>\n<table border=\"1\" class=\"dataframe\">\n  <thead>\n    <tr style=\"text-align: right;\">\n      <th></th>\n      <th>name</th>\n      <th>category</th>\n    </tr>\n    <tr>\n      <th>movie_id</th>\n      <th></th>\n      <th></th>\n    </tr>\n  </thead>\n  <tbody>\n    <tr>\n      <th>1485.0</th>\n      <td>L.A. Confidential (1997)</td>\n      <td>Crime|Film-Noir|Mystery|Thriller</td>\n    </tr>\n    <tr>\n      <th>1106.0</th>\n      <td>Star Wars: Episode V - The Empire Strikes Back...</td>\n      <td>Action|Adventure|Drama|Sci-Fi|War</td>\n    </tr>\n    <tr>\n      <th>1120.0</th>\n      <td>Star Wars: Episode VI - Return of the Jedi (1983)</td>\n      <td>Action|Adventure|Romance|Sci-Fi|War</td>\n    </tr>\n    <tr>\n      <th>575.0</th>\n      <td>Terminator 2: Judgment Day (1991)</td>\n      <td>Action|Sci-Fi|Thriller</td>\n    </tr>\n    <tr>\n      <th>1110.0</th>\n      <td>Aliens (1986)</td>\n      <td>Action|Sci-Fi|Thriller|War</td>\n    </tr>\n    <tr>\n      <th>593.0</th>\n      <td>Fargo (1996)</td>\n      <td>Crime|Drama|Thriller</td>\n    </tr>\n    <tr>\n      <th>2651.0</th>\n      <td>American Beauty (1999)</td>\n      <td>Comedy|Drama</td>\n    </tr>\n    <tr>\n      <th>106.0</th>\n      <td>Braveheart (1995)</td>\n      <td>Action|Drama|War</td>\n    </tr>\n    <tr>\n      <th>287.0</th>\n      <td>Pulp Fiction (1994)</td>\n      <td>Crime|Drama</td>\n    </tr>\n    <tr>\n      <th>579.0</th>\n      <td>Silence of the Lambs, The (1991)</td>\n      <td>Drama|Thriller</td>\n    </tr>\n  </tbody>\n</table>\n</div>"
     },
     "execution_count": 110,
     "metadata": {},
     "output_type": "execute_result"
    }
   ],
   "source": [
    "recommendations = warp.recommend(test_user_id, user_item_csr)\n",
    "movie_info.set_index('movie_id').loc[recommendations, :]"
   ],
   "metadata": {
    "collapsed": false,
    "pycharm": {
     "name": "#%%\n"
    }
   }
  },
  {
   "cell_type": "code",
   "execution_count": 110,
   "outputs": [],
   "source": [],
   "metadata": {
    "collapsed": false,
    "pycharm": {
     "name": "#%%\n"
    }
   }
  }
 ],
 "metadata": {
  "kernelspec": {
   "display_name": "Python 3",
   "language": "python",
   "name": "python3"
  },
  "language_info": {
   "codemirror_mode": {
    "name": "ipython",
    "version": 2
   },
   "file_extension": ".py",
   "mimetype": "text/x-python",
   "name": "python",
   "nbconvert_exporter": "python",
   "pygments_lexer": "ipython2",
   "version": "2.7.6"
  }
 },
 "nbformat": 4,
 "nbformat_minor": 0
}